{
 "cells": [
  {
   "cell_type": "markdown",
   "id": "5aaf656f-82ab-4e2b-96ec-a6a22ebb9d6c",
   "metadata": {},
   "source": [
    "# 6. Derivace\n",
    "\n",
    "## `derivative` a `diff`\n",
    "\n",
    "Ukažme si, jak SageMath použít k výpočtu derivací funkcí. Prvním krokem je definovat symbolickou proměnnou $x$, která bude odpovídat naší nezávislé proměnné."
   ]
  },
  {
   "cell_type": "code",
   "execution_count": 1,
   "id": "e13d8094-8f91-4c00-ae82-9bd57753ab8d",
   "metadata": {},
   "outputs": [
    {
     "data": {
      "text/plain": [
       "x"
      ]
     },
     "execution_count": 1,
     "metadata": {},
     "output_type": "execute_result"
    }
   ],
   "source": [
    "var('x')"
   ]
  },
  {
   "cell_type": "markdown",
   "id": "152724bd-0681-48ee-a946-31f132387b1a",
   "metadata": {},
   "source": [
    "Dále definujeme funkci, kterou chceme derivovat."
   ]
  },
  {
   "cell_type": "code",
   "execution_count": 2,
   "id": "730bb0f8-4bf4-4cee-9540-0080e77f666c",
   "metadata": {},
   "outputs": [],
   "source": [
    "f(x) = sin(x)"
   ]
  },
  {
   "cell_type": "markdown",
   "id": "4469f758-8c11-4e94-bccf-72560cd24cfb",
   "metadata": {},
   "source": [
    "Všimněte si, že SageMath korektně rozlišuje mezi funkcí $f$ a její funkční hodnotou $f(a)$ v bodě $a$."
   ]
  },
  {
   "cell_type": "code",
   "execution_count": 3,
   "id": "b7e403e4-6ba7-4d4c-9a6f-178f66b487d3",
   "metadata": {},
   "outputs": [
    {
     "data": {
      "text/html": [
       "<html>\\(\\displaystyle x \\ {\\mapsto}\\ \\sin\\left(x\\right)\\)</html>"
      ],
      "text/latex": [
       "$\\displaystyle x \\ {\\mapsto}\\ \\sin\\left(x\\right)$"
      ],
      "text/plain": [
       "x |--> sin(x)"
      ]
     },
     "metadata": {},
     "output_type": "display_data"
    },
    {
     "data": {
      "text/html": [
       "<html>\\(\\displaystyle 1\\)</html>"
      ],
      "text/latex": [
       "$\\displaystyle 1$"
      ],
      "text/plain": [
       "1"
      ]
     },
     "metadata": {},
     "output_type": "display_data"
    }
   ],
   "source": [
    "show(f)\n",
    "show(f(pi/2))"
   ]
  },
  {
   "cell_type": "markdown",
   "id": "786a2e14-225d-4527-973a-cd86f8fa4ea7",
   "metadata": {},
   "source": [
    "Derivaci funkce $f$ můžeme získat několika ekvivalentními způsoby. Prvním je zavolání metody derivative přímo na objektu odpovídajícímu funkci $f$."
   ]
  },
  {
   "cell_type": "code",
   "execution_count": 5,
   "id": "a7292221-76c6-4860-ac31-9a096a0bc8a8",
   "metadata": {},
   "outputs": [
    {
     "data": {
      "text/html": [
       "<html>\\(\\displaystyle x \\ {\\mapsto}\\ \\cos\\left(x\\right)\\)</html>"
      ],
      "text/latex": [
       "$\\displaystyle x \\ {\\mapsto}\\ \\cos\\left(x\\right)$"
      ],
      "text/plain": [
       "x |--> cos(x)"
      ]
     },
     "metadata": {},
     "output_type": "display_data"
    },
    {
     "data": {
      "text/html": [
       "<html>\\(\\displaystyle \\cos\\left(x\\right)\\)</html>"
      ],
      "text/latex": [
       "$\\displaystyle \\cos\\left(x\\right)$"
      ],
      "text/plain": [
       "cos(x)"
      ]
     },
     "metadata": {},
     "output_type": "display_data"
    }
   ],
   "source": [
    "g = f.derivative()\n",
    "\n",
    "show(g)\n",
    "show(g(x))"
   ]
  },
  {
   "cell_type": "markdown",
   "id": "8dbcee59-f753-440e-b320-1ef97404ae28",
   "metadata": {},
   "source": [
    "Druhou možností je použití funkce `diff`."
   ]
  },
  {
   "cell_type": "code",
   "execution_count": 6,
   "id": "fe3a7726-079a-4caa-98d2-2e25d5d84a87",
   "metadata": {},
   "outputs": [
    {
     "data": {
      "text/html": [
       "<html>\\(\\displaystyle x \\ {\\mapsto}\\ \\cos\\left(x\\right)\\)</html>"
      ],
      "text/latex": [
       "$\\displaystyle x \\ {\\mapsto}\\ \\cos\\left(x\\right)$"
      ],
      "text/plain": [
       "x |--> cos(x)"
      ]
     },
     "metadata": {},
     "output_type": "display_data"
    },
    {
     "data": {
      "text/html": [
       "<html>\\(\\displaystyle \\cos\\left(x\\right)\\)</html>"
      ],
      "text/latex": [
       "$\\displaystyle \\cos\\left(x\\right)$"
      ],
      "text/plain": [
       "cos(x)"
      ]
     },
     "metadata": {},
     "output_type": "display_data"
    }
   ],
   "source": [
    "g = diff(f)\n",
    "\n",
    "show(g)\n",
    "show(g(x))"
   ]
  },
  {
   "cell_type": "markdown",
   "id": "b76680bf-e329-4add-8e58-c60bb6149a9d",
   "metadata": {},
   "source": [
    "Pokude derivujeme funkce zadané výrazem, musíme uvést podle které proměnné chceme derivovat (pokud jich je více)."
   ]
  },
  {
   "cell_type": "code",
   "execution_count": 9,
   "id": "a4a9081a-a4c2-4dc3-9a7e-ef25f7176ad2",
   "metadata": {},
   "outputs": [
    {
     "data": {
      "text/plain": [
       "2*x"
      ]
     },
     "execution_count": 9,
     "metadata": {},
     "output_type": "execute_result"
    }
   ],
   "source": [
    "diff(x^2, x)"
   ]
  },
  {
   "cell_type": "code",
   "execution_count": 10,
   "id": "af5bbdc8-18ef-4cb2-bf6d-b9f5c6e39fd1",
   "metadata": {},
   "outputs": [
    {
     "data": {
      "text/plain": [
       "2*x"
      ]
     },
     "execution_count": 10,
     "metadata": {},
     "output_type": "execute_result"
    }
   ],
   "source": [
    "(x^2).derivative(x)"
   ]
  },
  {
   "cell_type": "markdown",
   "id": "bdabdcf2-5c15-4ada-8c74-40d0d86e0072",
   "metadata": {},
   "source": [
    "Často budeme chtít vypočítat druhou, třetí a případně další derivace.\n",
    "K tomu opět můžeme použít obě metody:"
   ]
  },
  {
   "cell_type": "code",
   "execution_count": 12,
   "id": "e8fc6d65-13e3-4d9b-b246-7e16febac60b",
   "metadata": {},
   "outputs": [
    {
     "data": {
      "text/plain": [
       "2"
      ]
     },
     "execution_count": 12,
     "metadata": {},
     "output_type": "execute_result"
    }
   ],
   "source": [
    "diff(x^2, x, 2) # druhá derivace podle x"
   ]
  },
  {
   "cell_type": "markdown",
   "id": "65aa205d-c080-4ac3-8edb-e9be5ea1227e",
   "metadata": {},
   "source": [
    "## Tabulka derivací\n",
    "\n",
    "Pomocí SageMath zreprodukujme tabulku derivací elementárních funkcí:"
   ]
  },
  {
   "cell_type": "code",
   "execution_count": 24,
   "id": "9b6ccbf3-48b0-4c2e-8d43-2cc644598619",
   "metadata": {},
   "outputs": [
    {
     "data": {
      "text/html": [
       "<div class=\"notruncate\">\n",
       "<table  class=\"table_form\">\n",
       "<tbody>\n",
       "<tr class =\"row-a\">\n",
       "<td style=\"text-align:left\">\\(x^{k}\\)</td>\n",
       "<td style=\"text-align:left\">\\(k x^{k - 1}\\)</td>\n",
       "</tr>\n",
       "<tr class =\"row-b\">\n",
       "<td style=\"text-align:left\">\\(\\log\\left(x\\right)\\)</td>\n",
       "<td style=\"text-align:left\">\\(\\frac{1}{x}\\)</td>\n",
       "</tr>\n",
       "<tr class =\"row-a\">\n",
       "<td style=\"text-align:left\">\\(e^{x}\\)</td>\n",
       "<td style=\"text-align:left\">\\(e^{x}\\)</td>\n",
       "</tr>\n",
       "<tr class =\"row-b\">\n",
       "<td style=\"text-align:left\">\\(\\alpha^{x}\\)</td>\n",
       "<td style=\"text-align:left\">\\(\\alpha^{x} \\log\\left(\\alpha\\right)\\)</td>\n",
       "</tr>\n",
       "<tr class =\"row-a\">\n",
       "<td style=\"text-align:left\">\\(\\sin\\left(x\\right)\\)</td>\n",
       "<td style=\"text-align:left\">\\(\\cos\\left(x\\right)\\)</td>\n",
       "</tr>\n",
       "<tr class =\"row-b\">\n",
       "<td style=\"text-align:left\">\\(\\cos\\left(x\\right)\\)</td>\n",
       "<td style=\"text-align:left\">\\(-\\sin\\left(x\\right)\\)</td>\n",
       "</tr>\n",
       "<tr class =\"row-a\">\n",
       "<td style=\"text-align:left\">\\(\\tan\\left(x\\right)\\)</td>\n",
       "<td style=\"text-align:left\">\\(\\tan\\left(x\\right)^{2} + 1\\)</td>\n",
       "</tr>\n",
       "<tr class =\"row-b\">\n",
       "<td style=\"text-align:left\">\\(\\cot\\left(x\\right)\\)</td>\n",
       "<td style=\"text-align:left\">\\(-\\cot\\left(x\\right)^{2} - 1\\)</td>\n",
       "</tr>\n",
       "<tr class =\"row-a\">\n",
       "<td style=\"text-align:left\">\\(\\arcsin\\left(x\\right)\\)</td>\n",
       "<td style=\"text-align:left\">\\(\\frac{1}{\\sqrt{-x^{2} + 1}}\\)</td>\n",
       "</tr>\n",
       "<tr class =\"row-b\">\n",
       "<td style=\"text-align:left\">\\(\\arccos\\left(x\\right)\\)</td>\n",
       "<td style=\"text-align:left\">\\(-\\frac{1}{\\sqrt{-x^{2} + 1}}\\)</td>\n",
       "</tr>\n",
       "<tr class =\"row-a\">\n",
       "<td style=\"text-align:left\">\\(\\arctan\\left(x\\right)\\)</td>\n",
       "<td style=\"text-align:left\">\\(\\frac{1}{x^{2} + 1}\\)</td>\n",
       "</tr>\n",
       "<tr class =\"row-b\">\n",
       "<td style=\"text-align:left\">\\(\\operatorname{arccot}\\left(x\\right)\\)</td>\n",
       "<td style=\"text-align:left\">\\(-\\frac{1}{x^{2} + 1}\\)</td>\n",
       "</tr>\n",
       "</tbody>\n",
       "</table>\n",
       "</div>"
      ],
      "text/plain": [
       "  x^k         k*x^(k - 1)\n",
       "  log(x)      1/x\n",
       "  e^x         e^x\n",
       "  alpha^x     alpha^x*log(alpha)\n",
       "  sin(x)      cos(x)\n",
       "  cos(x)      -sin(x)\n",
       "  tan(x)      tan(x)^2 + 1\n",
       "  cot(x)      -cot(x)^2 - 1\n",
       "  arcsin(x)   1/sqrt(-x^2 + 1)\n",
       "  arccos(x)   -1/sqrt(-x^2 + 1)\n",
       "  arctan(x)   1/(x^2 + 1)\n",
       "  arccot(x)   -1/(x^2 + 1)"
      ]
     },
     "execution_count": 24,
     "metadata": {},
     "output_type": "execute_result"
    }
   ],
   "source": [
    "var('k, alpha')\n",
    "fs = [x^k, ln(x), e^x, alpha^x, sin(x), cos(x), tan(x), cot(x), arcsin(x), arccos(x), arctan(x), arccot(x)]\n",
    "\n",
    "table(columns=[fs, map(lambda f: diff(f,  x), fs)])"
   ]
  },
  {
   "cell_type": "markdown",
   "id": "ff2198e3-b4c1-4f20-9918-952d966cb08b",
   "metadata": {},
   "source": [
    "Poznámka: `log` je v SageMath, stejně jako v _Mathematica_, přirozený logaritmus"
   ]
  },
  {
   "cell_type": "markdown",
   "id": "bdb7b617-8340-4bd3-b323-8698f9098697",
   "metadata": {},
   "source": [
    "## Další výpočty"
   ]
  },
  {
   "cell_type": "markdown",
   "id": "8102fc8e-f8e3-487d-8279-cbab449ef8c4",
   "metadata": {},
   "source": [
    "Často bývá potřeba výsledný symbolický výraz ještě zjednodušit. K tomu SageMath poskytuje několik funkcí."
   ]
  },
  {
   "cell_type": "code",
   "execution_count": 8,
   "id": "9d189261-ef01-448a-9637-371b870fa54a",
   "metadata": {},
   "outputs": [
    {
     "data": {
      "text/html": [
       "<html>\\(\\displaystyle \\frac{1}{x^{2} + 1} - \\frac{1}{x^{2} {\\left(\\frac{1}{x^{2}} + 1\\right)}}\\)</html>"
      ],
      "text/latex": [
       "$\\displaystyle \\frac{1}{x^{2} + 1} - \\frac{1}{x^{2} {\\left(\\frac{1}{x^{2}} + 1\\right)}}$"
      ],
      "text/plain": [
       "1/(x^2 + 1) - 1/(x^2*(1/x^2 + 1))"
      ]
     },
     "metadata": {},
     "output_type": "display_data"
    },
    {
     "data": {
      "text/html": [
       "<html>\\(\\displaystyle 0\\)</html>"
      ],
      "text/latex": [
       "$\\displaystyle 0$"
      ],
      "text/plain": [
       "0"
      ]
     },
     "metadata": {},
     "output_type": "display_data"
    }
   ],
   "source": [
    "f(x) = arctan(x) + arctan(1/x)\n",
    "expr = diff(f(x))\n",
    "\n",
    "# po derivaci\n",
    "show(expr)\n",
    "\n",
    "# zjednodušení\n",
    "show(expr.simplify_full())"
   ]
  },
  {
   "cell_type": "code",
   "execution_count": null,
   "id": "bcc51b64-3394-4362-b304-38a0abb47ae1",
   "metadata": {},
   "outputs": [],
   "source": []
  }
 ],
 "metadata": {
  "kernelspec": {
   "display_name": "SageMath 9.8",
   "language": "sage",
   "name": "sagemath"
  },
  "language_info": {
   "codemirror_mode": {
    "name": "ipython",
    "version": 3
   },
   "file_extension": ".py",
   "mimetype": "text/x-python",
   "name": "python",
   "nbconvert_exporter": "python",
   "pygments_lexer": "ipython3",
   "version": "3.9.16"
  }
 },
 "nbformat": 4,
 "nbformat_minor": 5
}
