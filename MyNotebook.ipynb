{
 "cells": [
  {
   "cell_type": "code",
   "execution_count": 3,
   "id": "5eed895b",
   "metadata": {},
   "outputs": [
    {
     "data": {
      "text/html": [
       "<div class=\"notruncate\">\n",
       "<table  class=\"table_form\">\n",
       "<tbody>\n",
       "<tr class =\"row-a\">\n",
       "<td style=\"text-align:left\">\\(x^{k}\\)</td>\n",
       "<td style=\"text-align:left\">\\(k x^{k - 1}\\)</td>\n",
       "</tr>\n",
       "<tr class =\"row-b\">\n",
       "<td style=\"text-align:left\">\\(\\log\\left(x\\right)\\)</td>\n",
       "<td style=\"text-align:left\">\\(\\frac{1}{x}\\)</td>\n",
       "</tr>\n",
       "<tr class =\"row-a\">\n",
       "<td style=\"text-align:left\">\\(e^{x}\\)</td>\n",
       "<td style=\"text-align:left\">\\(e^{x}\\)</td>\n",
       "</tr>\n",
       "<tr class =\"row-b\">\n",
       "<td style=\"text-align:left\">\\(\\alpha^{x}\\)</td>\n",
       "<td style=\"text-align:left\">\\(\\alpha^{x} \\log\\left(\\alpha\\right)\\)</td>\n",
       "</tr>\n",
       "<tr class =\"row-a\">\n",
       "<td style=\"text-align:left\">\\(\\sin\\left(x\\right)\\)</td>\n",
       "<td style=\"text-align:left\">\\(\\cos\\left(x\\right)\\)</td>\n",
       "</tr>\n",
       "<tr class =\"row-b\">\n",
       "<td style=\"text-align:left\">\\(\\cos\\left(x\\right)\\)</td>\n",
       "<td style=\"text-align:left\">\\(-\\sin\\left(x\\right)\\)</td>\n",
       "</tr>\n",
       "<tr class =\"row-a\">\n",
       "<td style=\"text-align:left\">\\(\\tan\\left(x\\right)\\)</td>\n",
       "<td style=\"text-align:left\">\\(\\tan\\left(x\\right)^{2} + 1\\)</td>\n",
       "</tr>\n",
       "<tr class =\"row-b\">\n",
       "<td style=\"text-align:left\">\\(\\cot\\left(x\\right)\\)</td>\n",
       "<td style=\"text-align:left\">\\(-\\cot\\left(x\\right)^{2} - 1\\)</td>\n",
       "</tr>\n",
       "<tr class =\"row-a\">\n",
       "<td style=\"text-align:left\">\\(\\arcsin\\left(x\\right)\\)</td>\n",
       "<td style=\"text-align:left\">\\(\\frac{1}{\\sqrt{-x^{2} + 1}}\\)</td>\n",
       "</tr>\n",
       "<tr class =\"row-b\">\n",
       "<td style=\"text-align:left\">\\(\\arccos\\left(x\\right)\\)</td>\n",
       "<td style=\"text-align:left\">\\(-\\frac{1}{\\sqrt{-x^{2} + 1}}\\)</td>\n",
       "</tr>\n",
       "<tr class =\"row-a\">\n",
       "<td style=\"text-align:left\">\\(\\arctan\\left(x\\right)\\)</td>\n",
       "<td style=\"text-align:left\">\\(\\frac{1}{x^{2} + 1}\\)</td>\n",
       "</tr>\n",
       "<tr class =\"row-b\">\n",
       "<td style=\"text-align:left\">\\(\\operatorname{arccot}\\left(x\\right)\\)</td>\n",
       "<td style=\"text-align:left\">\\(-\\frac{1}{x^{2} + 1}\\)</td>\n",
       "</tr>\n",
       "</tbody>\n",
       "</table>\n",
       "</div>"
      ],
      "text/plain": [
       "  x^k         k*x^(k - 1)\n",
       "  log(x)      1/x\n",
       "  e^x         e^x\n",
       "  alpha^x     alpha^x*log(alpha)\n",
       "  sin(x)      cos(x)\n",
       "  cos(x)      -sin(x)\n",
       "  tan(x)      tan(x)^2 + 1\n",
       "  cot(x)      -cot(x)^2 - 1\n",
       "  arcsin(x)   1/sqrt(-x^2 + 1)\n",
       "  arccos(x)   -1/sqrt(-x^2 + 1)\n",
       "  arctan(x)   1/(x^2 + 1)\n",
       "  arccot(x)   -1/(x^2 + 1)"
      ]
     },
     "execution_count": 3,
     "metadata": {},
     "output_type": "execute_result"
    }
   ],
   "source": [
    "var('k, alpha')\n",
    "fs = [x^k, ln(x), e^x, alpha^x, sin(x), cos(x), tan(x), cot(x), arcsin(x), arccos(x), arctan(x), arccot(x)]\n",
    "\n",
    "#log je prirozeny logaritmus!!!\n",
    "\n",
    "table(columns=[fs, map(lambda f: diff(f,  x), fs)])"
   ]
  },
  {
   "cell_type": "code",
   "execution_count": 17,
   "id": "033ebc83",
   "metadata": {},
   "outputs": [
    {
     "data": {
      "image/png": "[encoded data removed]",
      "text/plain": [
       "Graphics object consisting of 1 graphics primitive"
      ]
     },
     "execution_count": 17,
     "metadata": {},
     "output_type": "execute_result"
    }
   ],
   "source": [
    "f(x) = (((4+x)/(4-x))^4)\n",
    "plot(f,(x,-100,100),ymin = 0, ymax=100)"
   ]
  },
  {
   "cell_type": "code",
   "execution_count": 7,
   "id": "df419cda",
   "metadata": {
    "scrolled": true
   },
   "outputs": [
    {
     "data": {
      "text/html": [
       "<html>\\(\\displaystyle 1\\)</html>"
      ],
      "text/latex": [
       "$\\displaystyle 1$"
      ],
      "text/plain": [
       "1"
      ]
     },
     "metadata": {},
     "output_type": "display_data"
    },
    {
     "data": {
      "text/html": [
       "<html>\\(\\displaystyle x\\)</html>"
      ],
      "text/latex": [
       "$\\displaystyle x$"
      ],
      "text/plain": [
       "x"
      ]
     },
     "metadata": {},
     "output_type": "display_data"
    }
   ],
   "source": [
    "expr = lim(x^sqrt(x), x=+0)\n",
    "show(expr)\n",
    "expr = e ^ log(x)\n",
    "show (expr)"
   ]
  },
  {
   "cell_type": "code",
   "execution_count": 4,
   "id": "4b770a3e",
   "metadata": {},
   "outputs": [
    {
     "data": {
      "text/html": [
       "<html>\\(\\displaystyle \\frac{3 \\, {\\left(\\log\\left(x\\right)^{2} - 1\\right)}}{x}\\)</html>"
      ],
      "text/latex": [
       "$\\displaystyle \\frac{3 \\, {\\left(\\log\\left(x\\right)^{2} - 1\\right)}}{x}$"
      ],
      "text/plain": [
       "3*(log(x)^2 - 1)/x"
      ]
     },
     "metadata": {},
     "output_type": "display_data"
    }
   ],
   "source": [
    "expr = diff(log(x)^3-3*log(x))\n",
    "show(expr.simplify_full())"
   ]
  },
  {
   "cell_type": "code",
   "execution_count": 3,
   "id": "4d7408af",
   "metadata": {},
   "outputs": [
    {
     "ename": "NameError",
     "evalue": "name 'd' is not defined",
     "output_type": "error",
     "traceback": [
      "\u001b[0;31m---------------------------------------------------------------------------\u001b[0m",
      "\u001b[0;31mNameError\u001b[0m                                 Traceback (most recent call last)",
      "Cell \u001b[0;32mIn[3], line 4\u001b[0m\n\u001b[1;32m      2\u001b[0m var(\u001b[38;5;124m'\u001b[39m\u001b[38;5;124mb\u001b[39m\u001b[38;5;124m'\u001b[39m)\n\u001b[1;32m      3\u001b[0m var(\u001b[38;5;124m'\u001b[39m\u001b[38;5;124mc\u001b[39m\u001b[38;5;124m'\u001b[39m)\n\u001b[0;32m----> 4\u001b[0m a\u001b[38;5;241m*\u001b[39m(sqrt(c\u001b[38;5;241m+\u001b[39m\u001b[43md\u001b[49m))\n",
      "\u001b[0;31mNameError\u001b[0m: name 'd' is not defined"
     ]
    }
   ],
   "source": [
    "var('a')\n",
    "var('b')\n",
    "var('c')\n",
    "a*(sqrt(c+d))"
   ]
  },
  {
   "cell_type": "code",
   "execution_count": null,
   "id": "ff6ca22f",
   "metadata": {},
   "outputs": [],
   "source": []
  }
 ],
 "metadata": {
  "kernelspec": {
   "display_name": "SageMath 9.8",
   "language": "sage",
   "name": "sagemath"
  },
  "language_info": {
   "codemirror_mode": {
    "name": "ipython",
    "version": 3
   },
   "file_extension": ".py",
   "mimetype": "text/x-python",
   "name": "python",
   "nbconvert_exporter": "python",
   "pygments_lexer": "ipython3",
   "version": "3.9.16"
  }
 },
 "nbformat": 4,
 "nbformat_minor": 5
}
