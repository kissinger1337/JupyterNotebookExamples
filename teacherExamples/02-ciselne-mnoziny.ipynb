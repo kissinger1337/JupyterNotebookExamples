{
 "cells": [
  {
   "cell_type": "markdown",
   "id": "a823f86b",
   "metadata": {},
   "source": [
    "# 2. Číselné množiny a důležité konstanty\n",
    "\n",
    "Výchozím bodem pro nás bude práce s číselnými objekty.\n",
    "Pozor, SageMath ve většině případů nepoužívá obyčejné Python datové typy (jako `int` a `float`)."
   ]
  },
  {
   "cell_type": "markdown",
   "id": "cced8df7",
   "metadata": {},
   "source": [
    "## 2.1 Celá čísla\n",
    "\n",
    "**Celá čísla** lze v počítačových algebraických systémech reprezentovat přesně a provádět s nimi algebraické operace sčítání a násobení bez chyb, dokud stačí paměť.\n",
    "Objekt odpovídající množině celých čísel (z pohledu matematika se jedná o [okruh (_ring_)](https://en.wikipedia.org/wiki/Ring_(mathematics))) je v SageMath značen `ZZ` (viz také [dokumentaci](https://doc.sagemath.org/html/en/reference/rings_standard/sage/rings/integer_ring.html))."
   ]
  },
  {
   "cell_type": "code",
   "execution_count": 1,
   "id": "925f1562",
   "metadata": {},
   "outputs": [
    {
     "name": "stdout",
     "output_type": "stream",
     "text": [
      "Integer Ring\n"
     ]
    },
    {
     "data": {
      "text/html": [
       "<html>\\(\\displaystyle \\newcommand{\\Bold}[1]{\\mathbf{#1}}\\Bold{Z}\\)</html>"
      ],
      "text/latex": [
       "$\\displaystyle \\newcommand{\\Bold}[1]{\\mathbf{#1}}\\Bold{Z}$"
      ],
      "text/plain": [
       "Integer Ring"
      ]
     },
     "metadata": {},
     "output_type": "display_data"
    }
   ],
   "source": [
    "print(ZZ)\n",
    "show(ZZ)"
   ]
  },
  {
   "cell_type": "markdown",
   "id": "cd3e0a96",
   "metadata": {},
   "source": [
    "Celá čísla lze konstruovat několika ekvivalentními způsoby."
   ]
  },
  {
   "cell_type": "code",
   "execution_count": 2,
   "id": "4b3d5106",
   "metadata": {},
   "outputs": [
    {
     "name": "stdout",
     "output_type": "stream",
     "text": [
      "True\n",
      "True\n",
      "<class 'sage.rings.integer.Integer'>\n"
     ]
    }
   ],
   "source": [
    "# ekvivalentní způsoby vytvoření obektu typu SageMath Integer\n",
    "j = 1\n",
    "k = ZZ(1)\n",
    "l = Integer(1)\n",
    "\n",
    "print(j == k)\n",
    "print(k == l)\n",
    "print(type(j))"
   ]
  },
  {
   "cell_type": "markdown",
   "id": "1d89c989",
   "metadata": {},
   "source": [
    "SageMathovské celé číslo je daleko bohatší objekt, než Pythonovský _integer_ (ten zkonstruujete například příkazem `int(2)`).\n",
    "Na celém čísle můžete provádět celou řadu operací, například:"
   ]
  },
  {
   "cell_type": "code",
   "execution_count": 3,
   "id": "94cd62a3",
   "metadata": {},
   "outputs": [
    {
     "name": "stdout",
     "output_type": "stream",
     "text": [
      "11110001001010011\n",
      "5^2 * 11 * 449\n",
      "[1, 5, 11, 25, 55, 275, 449, 2245, 4939, 11225, 24695, 123475]\n"
     ]
    }
   ],
   "source": [
    "k = 123475\n",
    "\n",
    "print(k.binary())\n",
    "print(k.factor())\n",
    "print(k.divisors())"
   ]
  },
  {
   "cell_type": "markdown",
   "id": "bf9b17c9-d9cb-47c7-b3b0-75ec8f43c689",
   "metadata": {},
   "source": [
    "Metody a vlastnosti můžete prozkoumat stiskem TAB za tečkou, případně také viz stránku v [dokumentaci](https://doc.sagemath.org/html/en/reference/rings_standard/sage/rings/integer.html#sage.rings.integer.Integer)."
   ]
  },
  {
   "cell_type": "markdown",
   "id": "56aa04db-11bd-435d-979c-6577d0d32d0c",
   "metadata": {},
   "source": [
    "Přirozená čísla lze sčítat `+`, odčítat `-` a násobit `*`."
   ]
  },
  {
   "cell_type": "code",
   "execution_count": 4,
   "id": "a8d7c28d-e7eb-4d59-8067-44066a694033",
   "metadata": {},
   "outputs": [
    {
     "data": {
      "text/plain": [
       "10500"
      ]
     },
     "execution_count": 4,
     "metadata": {},
     "output_type": "execute_result"
    }
   ],
   "source": [
    "10_000 + 500"
   ]
  },
  {
   "cell_type": "code",
   "execution_count": 5,
   "id": "b333986d-61cf-46b5-b091-59b3661d2d86",
   "metadata": {},
   "outputs": [
    {
     "data": {
      "text/plain": [
       "-198"
      ]
     },
     "execution_count": 5,
     "metadata": {},
     "output_type": "execute_result"
    }
   ],
   "source": [
    "123 - 321"
   ]
  },
  {
   "cell_type": "code",
   "execution_count": 6,
   "id": "cfbc4080-4937-4d54-8ebe-46712c634cd4",
   "metadata": {},
   "outputs": [
    {
     "data": {
      "text/plain": [
       "9990000000000"
      ]
     },
     "execution_count": 6,
     "metadata": {},
     "output_type": "execute_result"
    }
   ],
   "source": [
    "10_000_000_000 * 999"
   ]
  },
  {
   "cell_type": "markdown",
   "id": "d0c94f71-7a5e-490e-8918-cc6b040835b8",
   "metadata": {},
   "source": [
    "K dělení `/` se SageMath chová jinak, než jste zvyklí s Pythonu. Dělení celých čísel, které lze provést beze zbytku nevyústí v hodnotu jiného typu (číslo s plovoucí desetinnou čárkou, _float_), ale stále celé číslo:"
   ]
  },
  {
   "cell_type": "code",
   "execution_count": 7,
   "id": "e290589a-7b16-40f2-9756-3aed3f816202",
   "metadata": {},
   "outputs": [
    {
     "data": {
      "text/plain": [
       "2"
      ]
     },
     "execution_count": 7,
     "metadata": {},
     "output_type": "execute_result"
    }
   ],
   "source": [
    "10 / 5"
   ]
  },
  {
   "cell_type": "markdown",
   "id": "61f3c2a9-42e0-456b-ad5f-384b104bba7b",
   "metadata": {},
   "source": [
    "Pokud dělíme celá čísla, které nelze dělit bezezbytku, pak dostaneme racionální číslo (ne _float_[^1])!\n",
    "SageMath (a i další počítačové algebraické systémy) se tak narozdíl od řady programovacích prostředí snaží co nejdéle držet správnost výpočtů.\n",
    "\n",
    "[^1]: Což technicky je racionální číslo, ale o to nyní nejde."
   ]
  },
  {
   "cell_type": "markdown",
   "id": "8d066ee1",
   "metadata": {},
   "source": [
    "## 2.2 Racionální čísla\n",
    "\n",
    "Podobně jako s celými čísly lze pracovat i s racionálními čísly s absolutní přesností (dokud vystačíme s pamětí).\n",
    "Racionálním číslům odpovídá objekt onačovaný jako `QQ` (viz [dokumentace](https://doc.sagemath.org/html/en/reference/rings_standard/sage/rings/rational_field.html)).\n",
    "Racionální čísla již tvoří těleso (anglicky _field_)."
   ]
  },
  {
   "cell_type": "code",
   "execution_count": 8,
   "id": "6b4eb492",
   "metadata": {},
   "outputs": [
    {
     "name": "stdout",
     "output_type": "stream",
     "text": [
      "Rational Field\n"
     ]
    },
    {
     "data": {
      "text/html": [
       "<html>\\(\\displaystyle \\newcommand{\\Bold}[1]{\\mathbf{#1}}\\Bold{Q}\\)</html>"
      ],
      "text/latex": [
       "$\\displaystyle \\newcommand{\\Bold}[1]{\\mathbf{#1}}\\Bold{Q}$"
      ],
      "text/plain": [
       "Rational Field"
      ]
     },
     "metadata": {},
     "output_type": "display_data"
    }
   ],
   "source": [
    "print(QQ)\n",
    "show(QQ)"
   ]
  },
  {
   "cell_type": "markdown",
   "id": "a14a6123",
   "metadata": {},
   "source": [
    "Racionální čísla (viz [dokumentaci](https://doc.sagemath.org/html/en/reference/rings_standard/sage/rings/rational.html#sage.rings.rational.Rational)) lze opět vytvářet několika různými způsoby (dělením celých čísel přirozeně vzniká objekt typu racionální číslo).\n",
    "Algebraickými operacemi sčítání `+`, odčítání `-`, násobení `*` či dělení `/` již množinu racionálních čísel neopustíme.\n",
    "\n",
    "Všimněte si, že podíl dvou celých čísel, kde první není dělitelné druhým, přirozeně vyústí v racionální hodnotu."
   ]
  },
  {
   "cell_type": "code",
   "execution_count": 9,
   "id": "a0131e11",
   "metadata": {},
   "outputs": [
    {
     "data": {
      "text/html": [
       "<html>\\(\\displaystyle \\frac{1}{2}\\)</html>"
      ],
      "text/latex": [
       "$\\displaystyle \\frac{1}{2}$"
      ],
      "text/plain": [
       "1/2"
      ]
     },
     "metadata": {},
     "output_type": "display_data"
    },
    {
     "name": "stdout",
     "output_type": "stream",
     "text": [
      "True\n"
     ]
    },
    {
     "data": {
      "text/html": [
       "<html>\\(\\displaystyle \\frac{9}{2147483648}\\)</html>"
      ],
      "text/latex": [
       "$\\displaystyle \\frac{9}{2147483648}$"
      ],
      "text/plain": [
       "9/2147483648"
      ]
     },
     "metadata": {},
     "output_type": "display_data"
    }
   ],
   "source": [
    "p = 1 / 2\n",
    "q = QQ(1 / 2)\n",
    "\n",
    "show(p)\n",
    "print(q == p)\n",
    "show(p^10 * 3^2 / q^(-21))"
   ]
  },
  {
   "cell_type": "markdown",
   "id": "49206670",
   "metadata": {},
   "source": [
    "**Pozor**, výraz `1 / 2.` (tečka zde není překlepem), kde jsme ve jmenovateli použili strojové číslo, už vám racionální číslo v tomto smyslu nevytvoří, sklouznete do nepřesné aritmetiky strojových čísel, viz níže."
   ]
  },
  {
   "cell_type": "code",
   "execution_count": 10,
   "id": "22bd4709",
   "metadata": {},
   "outputs": [
    {
     "data": {
      "text/plain": [
       "0.500000000000000"
      ]
     },
     "execution_count": 10,
     "metadata": {},
     "output_type": "execute_result"
    }
   ],
   "source": [
    "1/2."
   ]
  },
  {
   "cell_type": "markdown",
   "id": "fce9739d",
   "metadata": {},
   "source": [
    "## 2.3 „Reálná“ čísla (_float_)\n",
    "\n",
    "Stručně lze říci, že v SageMath jsou čísla s pohyblivou desetinnou čárkou s přesností $p$ chápána jako čísla tvaru\n",
    "$$ sm2^{e-p} $$\n",
    "kde $s\\in\\{-1,1\\}$ je znaménko, $2^{p-1} \\leq m < 2^{p}$ je mantisa a $-2^{30} +1 \\leq e < 2^{30} - 1$ je exponent.\n",
    "Obě $m$ i $e$ jsou nezáporná celá čísla.\n",
    "Defaultně SageMath pracuje s těmito čísly v přesnosti $p = 53$ (bitů pro signifikant), a reprodukuje tak $64$ bitový typ `double` známý z C, ovšem s větším rozsahem exponentu.\n",
    "Další detaily týkající se těchto strojových čísel může čtenář dohledat v [dokumentaci](http://www.sageMath.org/doc/reference/rings_numerical/sageMath/rings/real_mpfr.html)."
   ]
  },
  {
   "cell_type": "code",
   "execution_count": 11,
   "id": "7c93dc5d",
   "metadata": {},
   "outputs": [
    {
     "name": "stdout",
     "output_type": "stream",
     "text": [
      "<class 'sage.rings.real_mpfr.RealLiteral'>\n",
      "53\n"
     ]
    }
   ],
   "source": [
    "a = 2.7\n",
    "\n",
    "print(type(a))\n",
    "print(a.precision())"
   ]
  },
  {
   "cell_type": "markdown",
   "id": "9dce21eb",
   "metadata": {},
   "source": [
    "Tato tzv. strojová čísla v této pevné přesností tvoří pouze aproximaci tělesa reálných čísel.\n",
    "**Ve skutečnosti se jedná pouze o konečnou podmnožinu možiny racionálních čísel!**\n",
    "Nejsou ani uzavřená na algebraické operace, při výpočtech i vytváření aproximace vstupu dochází k **zaokrouhlování** a tedy chybám.\n",
    "Tyto chyby mohou mít při kumulaci fatální následky.\n",
    "SageMath tato čísla značí symbolem `RR` (viz [dokumentaci](https://doc.sagemath.org/html/en/reference/rings_numerical/index.html))."
   ]
  },
  {
   "cell_type": "code",
   "execution_count": 12,
   "id": "15f6849e",
   "metadata": {},
   "outputs": [
    {
     "name": "stdout",
     "output_type": "stream",
     "text": [
      "Real Field with 53 bits of precision\n"
     ]
    },
    {
     "data": {
      "text/html": [
       "<html>\\(\\displaystyle \\newcommand{\\Bold}[1]{\\mathbf{#1}}\\Bold{R}\\)</html>"
      ],
      "text/latex": [
       "$\\displaystyle \\newcommand{\\Bold}[1]{\\mathbf{#1}}\\Bold{R}$"
      ],
      "text/plain": [
       "Real Field with 53 bits of precision"
      ]
     },
     "metadata": {},
     "output_type": "display_data"
    }
   ],
   "source": [
    "print(RR)\n",
    "show(RR)"
   ]
  },
  {
   "cell_type": "markdown",
   "id": "d9f657b2",
   "metadata": {},
   "source": [
    "Použití slovíčka _field_ zde z matematického pohledu není správné.\n",
    "Pokud chceme, můžeme experimentovat i s menší či větší přesností (počet bitů pro signifikant)."
   ]
  },
  {
   "cell_type": "code",
   "execution_count": 13,
   "id": "1ca4e2d5",
   "metadata": {},
   "outputs": [
    {
     "name": "stdout",
     "output_type": "stream",
     "text": [
      "1.3\n",
      "10\n"
     ]
    }
   ],
   "source": [
    "F = RealField(10)\n",
    "a = F(1.3)\n",
    "\n",
    "print(a)\n",
    "print(a.precision())"
   ]
  },
  {
   "cell_type": "markdown",
   "id": "27492dac",
   "metadata": {},
   "source": [
    "Jaký exponent a signifikant odpovídají takovémuto číslu?"
   ]
  },
  {
   "cell_type": "code",
   "execution_count": 14,
   "id": "49d09bfa",
   "metadata": {},
   "outputs": [
    {
     "name": "stdout",
     "output_type": "stream",
     "text": [
      "1 ,  666 ,  -9\n"
     ]
    }
   ],
   "source": [
    "# jako exponent již vrací $e-p$\n",
    "sign, mantisa, exponent = a.sign_mantissa_exponent()\n",
    "print(sign, \", \", mantisa, \", \", exponent)"
   ]
  },
  {
   "cell_type": "markdown",
   "id": "ddbc21f5",
   "metadata": {},
   "source": [
    "Z těchto údajů zrekonstruujeme zpětně naše číslo $a$:"
   ]
  },
  {
   "cell_type": "code",
   "execution_count": 15,
   "id": "50c901f0",
   "metadata": {},
   "outputs": [
    {
     "data": {
      "text/plain": [
       "333/256"
      ]
     },
     "execution_count": 15,
     "metadata": {},
     "output_type": "execute_result"
    }
   ],
   "source": [
    "sign * mantisa * 2^exponent"
   ]
  },
  {
   "cell_type": "markdown",
   "id": "03e8474e-2d64-4ff3-ba4a-c822abad6ecb",
   "metadata": {},
   "source": [
    "Tj. v počítači v tomto případě **není uložené** číslo `1.3`, tj. $\\frac{13}{10}$, ale následující číslo s konečným desetinným rozvojem (což není nutné):"
   ]
  },
  {
   "cell_type": "code",
   "execution_count": 16,
   "id": "074cdf11-c882-4428-8a37-8ae9f8ffad2b",
   "metadata": {},
   "outputs": [
    {
     "data": {
      "text/plain": [
       "1.3007812500000000000000000000000000000000000000000"
      ]
     },
     "execution_count": 16,
     "metadata": {},
     "output_type": "execute_result"
    }
   ],
   "source": [
    "n(333 / 256, digits=50)"
   ]
  },
  {
   "cell_type": "markdown",
   "id": "9960424f-049f-4807-9ecd-21ccc1740187",
   "metadata": {},
   "source": [
    "Podobně, např. pro `0.17` máme:"
   ]
  },
  {
   "cell_type": "code",
   "execution_count": 17,
   "id": "df1280eb",
   "metadata": {},
   "outputs": [
    {
     "name": "stdout",
     "output_type": "stream",
     "text": [
      "znaménko, mantisa, exponent\n",
      "1 ,  6124895493223875 ,  -55\n",
      "\n",
      "odpovídající racionální číslo\n"
     ]
    },
    {
     "data": {
      "text/html": [
       "<html>\\(\\displaystyle \\frac{6124895493223875}{36028797018963968}\\)</html>"
      ],
      "text/latex": [
       "$\\displaystyle \\frac{6124895493223875}{36028797018963968}$"
      ],
      "text/plain": [
       "6124895493223875/36028797018963968"
      ]
     },
     "metadata": {},
     "output_type": "display_data"
    },
    {
     "name": "stdout",
     "output_type": "stream",
     "text": [
      "\n",
      "jeho přibližná numerická hodnota (20 cifer)\n",
      "0.17000000000000001221\n"
     ]
    }
   ],
   "source": [
    "a = RR(0.17)\n",
    "sign, mantisa, exponent = a.sign_mantissa_exponent()\n",
    "\n",
    "print('znaménko, mantisa, exponent')\n",
    "print(sign, ', ', mantisa, ', ', exponent)\n",
    "\n",
    "print('\\nodpovídající racionální číslo')\n",
    "exact = sign * mantisa * 2^exponent\n",
    "show(exact)\n",
    "\n",
    "print('\\njeho přibližná numerická hodnota (20 cifer)')\n",
    "print(n(exact, digits=20))"
   ]
  },
  {
   "cell_type": "markdown",
   "id": "8ed203f3",
   "metadata": {},
   "source": [
    "Tohoto problému se **nezbavíme** zvýšením přesnosti, je inherentní konstrukci strojových čísel, která jsou uložená v binárním formátu.\n",
    "Podívejme se na stejný případ s podstatně \"přesnějším\" strojovým číslem:"
   ]
  },
  {
   "cell_type": "code",
   "execution_count": 18,
   "id": "c0f031e1",
   "metadata": {},
   "outputs": [
    {
     "name": "stdout",
     "output_type": "stream",
     "text": [
      "přesnost\n",
      "512\n",
      "\n",
      "znaménko, mantisa, exponent\n",
      "1 ,  9117309392360966027710336998779975366685968758002827496852021781730799540450011944225274522753494330829221663566810514580552640312123667563574881324137185 ,  -514\n",
      "\n",
      "odpovídající strojové číslo\n"
     ]
    },
    {
     "data": {
      "text/html": [
       "<html>\\(\\displaystyle \\frac{9117309392360966027710336998779975366685968758002827496852021781730799540450011944225274522753494330829221663566810514580552640312123667563574881324137185}{53631231719770388398296099992823384509917463282369573510894245774887056120294187907207497192667613710760127432745944203415015531247786279785734596024336384}\\)</html>"
      ],
      "text/latex": [
       "$\\displaystyle \\frac{9117309392360966027710336998779975366685968758002827496852021781730799540450011944225274522753494330829221663566810514580552640312123667563574881324137185}{53631231719770388398296099992823384509917463282369573510894245774887056120294187907207497192667613710760127432745944203415015531247786279785734596024336384}$"
      ],
      "text/plain": [
       "9117309392360966027710336998779975366685968758002827496852021781730799540450011944225274522753494330829221663566810514580552640312123667563574881324137185/53631231719770388398296099992823384509917463282369573510894245774887056120294187907207497192667613710760127432745944203415015531247786279785734596024336384"
      ]
     },
     "metadata": {},
     "output_type": "display_data"
    },
    {
     "name": "stdout",
     "output_type": "stream",
     "text": [
      "\n",
      "numerická hodnota\n",
      "0.169999999999999999999999999999999999999999999999999999999999999999999999999999999999999999999999999999999999999999999999999999999999999999999999999999999994779161488159855279696324279175946313836469925779715174009937166755605130450917186545\n"
     ]
    }
   ],
   "source": [
    "F = RealField(512)\n",
    "a = F(0.17)\n",
    "\n",
    "print('přesnost')\n",
    "print(a.precision())\n",
    "\n",
    "print('\\nznaménko, mantisa, exponent')\n",
    "sign, mantisa, exponent = a.sign_mantissa_exponent()\n",
    "print(sign, ', ', mantisa, ', ', exponent)\n",
    "\n",
    "print('\\nodpovídající strojové číslo')\n",
    "exact = sign * mantisa * 2^exponent\n",
    "show(exact)\n",
    "\n",
    "print('\\nnumerická hodnota')\n",
    "print(n(exact, digits=240))"
   ]
  },
  {
   "cell_type": "markdown",
   "id": "55fb7291",
   "metadata": {},
   "source": [
    "Při práci s čísly s plovoucí desetinnou čárkou musíme být opatrní.\n",
    "Kvůli problémům způsobeným nepřesnostmi nejsou některé algoritmy, resp. jejich implementace ve strojových číslech, prakticky použitelné (např. Gaussova eliminace) "
   ]
  },
  {
   "cell_type": "markdown",
   "id": "16ee67c2-1ae8-4670-a376-5d98fbaef627",
   "metadata": {},
   "source": [
    "Na závěr této sekce o reálných číslech poznamenejme, že **Eulerovo číslo** se v SageMath označuje symbolem `e` a **Ludolfovo číslo** symbolem `pi`.\n",
    "Sage s nimi pracuje jako s abstraktními hodnotami, teprve v rámci výpočtu dle situace využije vhodnou aproximaci."
   ]
  },
  {
   "cell_type": "code",
   "execution_count": 19,
   "id": "deacaba2",
   "metadata": {},
   "outputs": [
    {
     "data": {
      "text/plain": [
       "e"
      ]
     },
     "execution_count": 19,
     "metadata": {},
     "output_type": "execute_result"
    }
   ],
   "source": [
    "e # Eulerovo číslo"
   ]
  },
  {
   "cell_type": "code",
   "execution_count": 20,
   "id": "e0a65700",
   "metadata": {},
   "outputs": [
    {
     "data": {
      "text/plain": [
       "pi"
      ]
     },
     "execution_count": 20,
     "metadata": {},
     "output_type": "execute_result"
    }
   ],
   "source": [
    "pi # Ludolfovo číslo"
   ]
  },
  {
   "cell_type": "code",
   "execution_count": 21,
   "id": "782c7ba9",
   "metadata": {},
   "outputs": [
    {
     "data": {
      "text/plain": [
       "2.7182818284590452353602874713526624977572470936999595749669676277240766303535475945713821785251664274274663919320030599218174135966290435729003342952605956307381323286279434907632338298807531952510190115738341879307021540891499348841675092447614606680822648001684774118537423454424371075390777449920695517027618386062613313845830007520449338265602976067371132007093287091274437470472306969772093101416928368190255151086574637721112523897844250569536967707854499699679468644549059879316368892300987931"
      ]
     },
     "execution_count": 21,
     "metadata": {},
     "output_type": "execute_result"
    }
   ],
   "source": [
    "n(e, digits=500)"
   ]
  },
  {
   "cell_type": "markdown",
   "id": "2268f6ad",
   "metadata": {},
   "source": [
    "Metoda `n` (nebo ekvivalentně `N`) umožňuje nalézt decimální vyjádření výrazu na požadovaný počet cifer."
   ]
  },
  {
   "cell_type": "code",
   "execution_count": 22,
   "id": "25167a01-2b02-4075-a074-75068dc1870b",
   "metadata": {},
   "outputs": [
    {
     "data": {
      "text/plain": [
       "3.1415926535897932384626433832795028841971693993751058209749445923078164062862089986280348253421170679821480865132823066470938446095505822317253594081284811174502841027019385211055596446229489549303819644288109756659334461284756482337867831652712019091456485669234603486104543266482133936072602491412737245870066063155881748815209209628292540917153643678925903600113305305488204665213841469519415116094330572703657595919530921861173819326117931051185480744623799627495673518857527248912279381830119491"
      ]
     },
     "execution_count": 22,
     "metadata": {},
     "output_type": "execute_result"
    }
   ],
   "source": [
    "n(pi, digits=500)"
   ]
  },
  {
   "cell_type": "markdown",
   "id": "a2b571bc",
   "metadata": {},
   "source": [
    "## 2.4 „Komplexní“ čísla\n",
    "\n",
    "S komplexními čísly se v SageMath pracuje poměrně jednoduše, jde o dvojici reálných čísel ve smyslu uvedeném v předchozí části notebooku.\n",
    "Imaginární jednotka je označena následovně\n"
   ]
  },
  {
   "cell_type": "code",
   "execution_count": 23,
   "id": "70e8aafb",
   "metadata": {},
   "outputs": [
    {
     "name": "stdout",
     "output_type": "stream",
     "text": [
      "I\n"
     ]
    },
    {
     "data": {
      "text/plain": [
       "<class 'sage.rings.number_field.number_field_element_quadratic.NumberFieldElement_gaussian'>"
      ]
     },
     "execution_count": 23,
     "metadata": {},
     "output_type": "execute_result"
    }
   ],
   "source": [
    "print(I)\n",
    "type(I)"
   ]
  },
  {
   "cell_type": "markdown",
   "id": "100e24ae",
   "metadata": {},
   "source": [
    "Například dle očekávání platí:"
   ]
  },
  {
   "cell_type": "code",
   "execution_count": 24,
   "id": "e0cad429",
   "metadata": {},
   "outputs": [
    {
     "data": {
      "text/plain": [
       "-1"
      ]
     },
     "execution_count": 24,
     "metadata": {},
     "output_type": "execute_result"
    }
   ],
   "source": [
    "I^2"
   ]
  },
  {
   "cell_type": "markdown",
   "id": "8995bd86",
   "metadata": {},
   "source": [
    "Všechny očekávané algebraické operace lze provádět i s komplexními čísly."
   ]
  },
  {
   "cell_type": "code",
   "execution_count": 25,
   "id": "dafac7a3",
   "metadata": {},
   "outputs": [
    {
     "data": {
      "text/plain": [
       "I + 3"
      ]
     },
     "execution_count": 25,
     "metadata": {},
     "output_type": "execute_result"
    }
   ],
   "source": [
    "(1+2*I)*(1 - I)"
   ]
  },
  {
   "cell_type": "markdown",
   "id": "a77dd91d",
   "metadata": {},
   "source": [
    "Komplexní čísla v BI-MA1 podrobněji využívat nebudeme, proto se jim zde nebudeme hlouběji věnovat."
   ]
  },
  {
   "cell_type": "markdown",
   "id": "085cbbc5-9012-4424-a22a-01784e17483a",
   "metadata": {},
   "source": [
    "## 2.5 Interakce mezi typy (přetypování)\n",
    "\n",
    "SageMath se k operacím mezi různými typy čísel chová poměrně očekávaně, _z matematického úhlu pohledu_.\n",
    "Symbolickým výrazům se budeme věnovat v dalším notebooku, teď máme opravdu na mysli operace mezi instancemi různých číselných typů zmíněné v tomto notebooku.\n",
    "\n",
    "Pojďme se podívat na sčítání celých a racionálních čísel."
   ]
  },
  {
   "cell_type": "code",
   "execution_count": 26,
   "id": "1c335a38-d306-46eb-aef7-a95cb639eba1",
   "metadata": {},
   "outputs": [],
   "source": [
    "a = ZZ(2)   # celé číslo\n",
    "b = QQ(3)   # formálně racionální číslo, ale s celočíselnou hodnotou\n",
    "c = 4 / 5   # racionální číslo, které není celé"
   ]
  },
  {
   "cell_type": "code",
   "execution_count": 27,
   "id": "ae368757-a2dc-4e41-b517-577bb3957e20",
   "metadata": {},
   "outputs": [
    {
     "data": {
      "text/html": [
       "<html>\\(\\displaystyle 5\\)</html>"
      ],
      "text/latex": [
       "$\\displaystyle 5$"
      ],
      "text/plain": [
       "5"
      ]
     },
     "metadata": {},
     "output_type": "display_data"
    },
    {
     "data": {
      "text/plain": [
       "<class 'sage.rings.rational.Rational'>"
      ]
     },
     "execution_count": 27,
     "metadata": {},
     "output_type": "execute_result"
    }
   ],
   "source": [
    "show(a + b)\n",
    "type(a + b)"
   ]
  },
  {
   "cell_type": "code",
   "execution_count": 28,
   "id": "db50d8db-88c3-4da1-b800-4ccf389aa941",
   "metadata": {},
   "outputs": [
    {
     "data": {
      "text/html": [
       "<html>\\(\\displaystyle \\frac{14}{5}\\)</html>"
      ],
      "text/latex": [
       "$\\displaystyle \\frac{14}{5}$"
      ],
      "text/plain": [
       "14/5"
      ]
     },
     "metadata": {},
     "output_type": "display_data"
    },
    {
     "data": {
      "text/plain": [
       "<class 'sage.rings.rational.Rational'>"
      ]
     },
     "execution_count": 28,
     "metadata": {},
     "output_type": "execute_result"
    }
   ],
   "source": [
    "show(a + c)\n",
    "type(a + c)"
   ]
  },
  {
   "cell_type": "markdown",
   "id": "0dc54126-02bc-4b6a-b46c-3d0cd0428a76",
   "metadata": {},
   "source": [
    "Jakmile ve se ve výrazu vyskytne strojové číslo, tak celý výpočet už proběhne v aritmetice strojových čísel."
   ]
  },
  {
   "cell_type": "code",
   "execution_count": 29,
   "id": "87c5f716-4d8d-4070-b611-cb2293aec570",
   "metadata": {},
   "outputs": [
    {
     "data": {
      "text/plain": [
       "2.80000000000000"
      ]
     },
     "execution_count": 29,
     "metadata": {},
     "output_type": "execute_result"
    }
   ],
   "source": [
    "2.0 + 4 / 5"
   ]
  },
  {
   "cell_type": "code",
   "execution_count": 30,
   "id": "fd2cbc85-d509-49d1-baa1-203135635514",
   "metadata": {},
   "outputs": [
    {
     "data": {
      "text/plain": [
       "2.00000000000000"
      ]
     },
     "execution_count": 30,
     "metadata": {},
     "output_type": "execute_result"
    }
   ],
   "source": [
    "4.0 / 2"
   ]
  },
  {
   "cell_type": "markdown",
   "id": "74ca495e-2dd6-45f9-9bda-cb2167c77fcb",
   "metadata": {},
   "source": [
    "Na toto pozor. Pokud chceme pracovat přesně, exaktně, tak bychom se strojovým číslům měli vyhnout."
   ]
  },
  {
   "cell_type": "markdown",
   "id": "26fa752d-64dd-4e4e-b0b1-e04d3f00e065",
   "metadata": {},
   "source": [
    "## 2.6 Dodatek"
   ]
  },
  {
   "cell_type": "markdown",
   "id": "21df0cd6-80f3-4a64-8cee-2d124eb5c3b1",
   "metadata": {},
   "source": [
    "K algebraickému výrazu $0 ^ 0$ se SageMath chová jako k jedničce, nezávisle na typu (pozor, k umocňování lze použít znak `^`, který má bliže matematické notaci než Pythonovské `**`):"
   ]
  },
  {
   "cell_type": "code",
   "execution_count": 31,
   "id": "f198acbc-764f-45fc-a302-36f1a386340c",
   "metadata": {},
   "outputs": [
    {
     "data": {
      "text/plain": [
       "1"
      ]
     },
     "execution_count": 31,
     "metadata": {},
     "output_type": "execute_result"
    }
   ],
   "source": [
    "0 ^ 0  # celá čísla"
   ]
  },
  {
   "cell_type": "code",
   "execution_count": 32,
   "id": "52a764bb-9366-4eff-92c3-39feada86362",
   "metadata": {},
   "outputs": [
    {
     "data": {
      "text/plain": [
       "1.00000000000000"
      ]
     },
     "execution_count": 32,
     "metadata": {},
     "output_type": "execute_result"
    }
   ],
   "source": [
    "0.0 ^ 0.0 # strojová čísla"
   ]
  },
  {
   "cell_type": "code",
   "execution_count": 33,
   "id": "c87681bc-6d00-4383-a0e1-f49d76d241e9",
   "metadata": {},
   "outputs": [
    {
     "data": {
      "text/plain": [
       "1"
      ]
     },
     "execution_count": 33,
     "metadata": {},
     "output_type": "execute_result"
    }
   ],
   "source": [
    "QQ(0) ^ QQ(0) # racionální čísla"
   ]
  },
  {
   "cell_type": "markdown",
   "id": "4a382989-254d-4af8-9e29-9d63070dd811",
   "metadata": {},
   "source": [
    "Racionální čísla, reálná čísla a komplexní čísla tvoří spolu se standardními algebraickými operacemi **těleso**.\n",
    "Další typ tělesa, který znáte z BI-LA1 jsou konečná tělesa $\\mathbb{Z}_p$, resp. v alternativní notaci $GF(p)$.\n",
    "\n",
    "Pro prvočíslo $p$ jde o množinu $\\{0,1,2,\\ldots,p-1\\}$ vybavenou sčítáním a násobením modulo $p$.\n",
    "Tato tělesa mají $p$ prvků, proto jsme použili slovíčko konečná. V SageMath s nimi můžeme pracovat velmi přirozeně. Podobně jako `ZZ`, `QQ` a `RR`, nejprve vytvoříme objekt odpovídající danému tělesu s $p = 7$:"
   ]
  },
  {
   "cell_type": "code",
   "execution_count": 34,
   "id": "9a9f644b-bec0-4ab0-a988-8e5bafd1ffcc",
   "metadata": {},
   "outputs": [
    {
     "name": "stdout",
     "output_type": "stream",
     "text": [
      "Finite Field of size 7\n"
     ]
    },
    {
     "data": {
      "text/html": [
       "<html>\\(\\displaystyle \\newcommand{\\Bold}[1]{\\mathbf{#1}}\\Bold{F}_{7}\\)</html>"
      ],
      "text/latex": [
       "$\\displaystyle \\newcommand{\\Bold}[1]{\\mathbf{#1}}\\Bold{F}_{7}$"
      ],
      "text/plain": [
       "Finite Field of size 7"
      ]
     },
     "metadata": {},
     "output_type": "display_data"
    }
   ],
   "source": [
    "Z7 = GF(7)\n",
    "\n",
    "print(Z7)\n",
    "show(Z7)"
   ]
  },
  {
   "cell_type": "markdown",
   "id": "5bc71d00-0665-4264-8339-d90683b3c93d",
   "metadata": {},
   "source": [
    "Jak vidíme, SageMath používá malinko alternativní notaci."
   ]
  },
  {
   "cell_type": "code",
   "execution_count": 35,
   "id": "9ef2ac88-efef-46b4-af2e-96e3d020eda6",
   "metadata": {},
   "outputs": [
    {
     "data": {
      "text/plain": [
       "[0, 1, 2, 3, 4, 5, 6]"
      ]
     },
     "execution_count": 35,
     "metadata": {},
     "output_type": "execute_result"
    }
   ],
   "source": [
    "list(Z7)"
   ]
  },
  {
   "cell_type": "markdown",
   "id": "8ff2c766-edce-438b-a4f9-7c7a2fe26767",
   "metadata": {},
   "source": [
    "Sčítání a násobení funguje bezešvě:"
   ]
  },
  {
   "cell_type": "code",
   "execution_count": 36,
   "id": "3ce894ba-deaf-49ab-a034-e364da2d6d8d",
   "metadata": {},
   "outputs": [
    {
     "data": {
      "text/plain": [
       "4"
      ]
     },
     "execution_count": 36,
     "metadata": {},
     "output_type": "execute_result"
    }
   ],
   "source": [
    "Z7(3) * Z7(6)"
   ]
  },
  {
   "cell_type": "code",
   "execution_count": 37,
   "id": "bf81cdfe-a4e2-4629-88a5-f03e2977c559",
   "metadata": {},
   "outputs": [
    {
     "data": {
      "text/plain": [
       "2"
      ]
     },
     "execution_count": 37,
     "metadata": {},
     "output_type": "execute_result"
    }
   ],
   "source": [
    "Z7(3) + Z7(6)"
   ]
  },
  {
   "cell_type": "code",
   "execution_count": 38,
   "id": "42272739-6db8-4cc4-a1a0-2fb67a68d9e5",
   "metadata": {},
   "outputs": [
    {
     "data": {
      "text/plain": [
       "4"
      ]
     },
     "execution_count": 38,
     "metadata": {},
     "output_type": "execute_result"
    }
   ],
   "source": [
    "Z7(3) - Z7(6)"
   ]
  },
  {
   "cell_type": "code",
   "execution_count": 39,
   "id": "5bbd12ee-4529-4748-8082-890eae55c2f6",
   "metadata": {},
   "outputs": [
    {
     "data": {
      "text/plain": [
       "1"
      ]
     },
     "execution_count": 39,
     "metadata": {},
     "output_type": "execute_result"
    }
   ],
   "source": [
    "-Z7(6)"
   ]
  },
  {
   "cell_type": "markdown",
   "id": "fa29e790-11a9-48c2-991d-783dc6fda7b2",
   "metadata": {},
   "source": [
    "Při operaci s \"obyčejným\" celým číslem se použijí operace z $\\mathbb{Z}_7$:"
   ]
  },
  {
   "cell_type": "code",
   "execution_count": 40,
   "id": "69896c08-a5dc-455e-a5a2-a9c16bb93b11",
   "metadata": {},
   "outputs": [
    {
     "data": {
      "text/plain": [
       "2"
      ]
     },
     "execution_count": 40,
     "metadata": {},
     "output_type": "execute_result"
    }
   ],
   "source": [
    "3 + Z7(6)"
   ]
  },
  {
   "cell_type": "code",
   "execution_count": 41,
   "id": "6a9aa1e2-c080-4f4b-bf59-9036518f4c6c",
   "metadata": {},
   "outputs": [
    {
     "data": {
      "text/plain": [
       "3"
      ]
     },
     "execution_count": 41,
     "metadata": {},
     "output_type": "execute_result"
    }
   ],
   "source": [
    "2 * Z7(5)"
   ]
  },
  {
   "cell_type": "markdown",
   "id": "5fae36a9-9b0d-47c2-ba81-9630026fd085",
   "metadata": {},
   "source": [
    "Výpočet inverzí v $\\mathbb{Z}_7$:"
   ]
  },
  {
   "cell_type": "code",
   "execution_count": 42,
   "id": "2855d0b7-415c-4fb4-9751-1bd0a3d67f26",
   "metadata": {},
   "outputs": [
    {
     "name": "stdout",
     "output_type": "stream",
     "text": [
      "Inverze k 1 v Z7:  1\n",
      "Inverze k 2 v Z7:  4\n",
      "Inverze k 3 v Z7:  5\n",
      "Inverze k 4 v Z7:  2\n",
      "Inverze k 5 v Z7:  3\n",
      "Inverze k 6 v Z7:  6\n"
     ]
    }
   ],
   "source": [
    "for x in Z7:\n",
    "    if x == 0:\n",
    "        continue\n",
    "        \n",
    "    print(\"Inverze k\", x, \"v Z7: \", x ^ (-1))"
   ]
  },
  {
   "cell_type": "markdown",
   "id": "925c3cdc-fd78-4960-b849-3462b8636fe5",
   "metadata": {},
   "source": [
    "V SageMath lze i velmi elegantně pracovat s konečnými tělesy majícími $p^n$ prvků ($p$ prvočíslo).\n",
    "Případně lze krásně pracovat i s maticemi a vektory s prvky z takovýchto konečných těles.\n",
    "Tomu se zde ale podrobněji věnovat nebudeme, zde cílíme na použití SageMath v matematické analýze."
   ]
  },
  {
   "cell_type": "code",
   "execution_count": 43,
   "id": "be5e3d42-46cd-403d-8294-7adb15213b03",
   "metadata": {},
   "outputs": [
    {
     "data": {
      "text/plain": [
       "Finite Field in z5 of size 3^5"
      ]
     },
     "execution_count": 43,
     "metadata": {},
     "output_type": "execute_result"
    }
   ],
   "source": [
    "T = GF(3^5)\n",
    "T"
   ]
  },
  {
   "cell_type": "code",
   "execution_count": 44,
   "id": "c75b5865-364a-401a-b666-808941ee266a",
   "metadata": {},
   "outputs": [
    {
     "data": {
      "text/html": [
       "<html>\\(\\displaystyle \\left(\\begin{array}{rr}\n",
       "4 & 3 \\\\\n",
       "4 & 2\n",
       "\\end{array}\\right)\\)</html>"
      ],
      "text/latex": [
       "$\\displaystyle \\left(\\begin{array}{rr}\n",
       "4 & 3 \\\\\n",
       "4 & 2\n",
       "\\end{array}\\right)$"
      ],
      "text/plain": [
       "[4 3]\n",
       "[4 2]"
      ]
     },
     "metadata": {},
     "output_type": "display_data"
    }
   ],
   "source": [
    "m = matrix(GF(5), [\n",
    "    [3, 2],\n",
    "    [1, 0]\n",
    "])\n",
    "\n",
    "show(m * m + m)"
   ]
  }
 ],
 "metadata": {
  "kernelspec": {
   "display_name": "SageMath 10.0.beta5",
   "language": "sage",
   "name": "sagemath"
  },
  "language_info": {
   "codemirror_mode": {
    "name": "ipython",
    "version": 3
   },
   "file_extension": ".py",
   "mimetype": "text/x-python",
   "name": "python",
   "nbconvert_exporter": "python",
   "pygments_lexer": "ipython3",
   "version": "3.10.10"
  }
 },
 "nbformat": 4,
 "nbformat_minor": 5
}
