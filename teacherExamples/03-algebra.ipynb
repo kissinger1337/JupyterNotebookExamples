{
 "cells": [
  {
   "cell_type": "markdown",
   "id": "ff07fe3c-8371-4a90-862d-1dca16cb2def",
   "metadata": {},
   "source": [
    "# 3. Symbolické výrazy a práce s nimi\n",
    "\n",
    "SageMath umožňuje uživateli pracovat i se symbolickými výrazy, tedy s digitálními analogy výrazů s kterými pracujeme i na papíře.\n",
    "Této funkčnosti samozřejmě intenzivně využijeme při práci s výrazy a rovnicemi obsahujícími neznámou či proměnnou, při řešení rovnic, nebo počítání limit a derivací.\n",
    "Touto problematikou se podrobně zabývá kapitola [Symbolic calculus](https://doc.sagemath.org/html/en/reference/calculus/index.html) v dokumentaci.\n",
    "\n",
    "## 3.1 Symbolické proměnné a výrazy\n",
    "\n",
    "Nejprve je přirozeně potřeba vytvořit proměnnou, s kterou budeme pracovat.\n",
    "K tomu slouží funkce `var`."
   ]
  },
  {
   "cell_type": "code",
   "execution_count": 1,
   "id": "effdba1d-318b-4889-84c4-41345748ff18",
   "metadata": {},
   "outputs": [
    {
     "data": {
      "text/plain": [
       "x"
      ]
     },
     "execution_count": 1,
     "metadata": {},
     "output_type": "execute_result"
    }
   ],
   "source": [
    "var('x')"
   ]
  },
  {
   "cell_type": "markdown",
   "id": "f6150357-479d-47bd-9593-a6d6d2c06807",
   "metadata": {},
   "source": [
    "Bez této inkantace bychom dostali chybu (na rozdíl např. od prostředí Mathematica, kde vše je symbolický výraz).\n",
    "Máme na mysly takovouto chybu (proměnná `y` nyní neexistuje)."
   ]
  },
  {
   "cell_type": "code",
   "execution_count": 2,
   "id": "0266f0b7-0990-4c61-a252-2f54e676b638",
   "metadata": {},
   "outputs": [
    {
     "ename": "NameError",
     "evalue": "name 'y' is not defined",
     "output_type": "error",
     "traceback": [
      "\u001b[0;31m---------------------------------------------------------------------------\u001b[0m",
      "\u001b[0;31mNameError\u001b[0m                                 Traceback (most recent call last)",
      "Cell \u001b[0;32mIn [2], line 1\u001b[0m\n\u001b[0;32m----> 1\u001b[0m \u001b[43my\u001b[49m\n",
      "\u001b[0;31mNameError\u001b[0m: name 'y' is not defined"
     ]
    }
   ],
   "source": [
    "y"
   ]
  },
  {
   "cell_type": "markdown",
   "id": "ab32002a-e20e-4d52-a557-07701348b73d",
   "metadata": {},
   "source": [
    "Od tohoto okamžiku můžeme s `x` pracovat jako s proměnnou a vytvářet různorodé výrazy (_expression_)."
   ]
  },
  {
   "cell_type": "code",
   "execution_count": 3,
   "id": "888d4303-2094-4f16-bd02-15c2efbb6413",
   "metadata": {},
   "outputs": [
    {
     "data": {
      "text/html": [
       "<html>\\(\\displaystyle x^{2} + \\frac{\\sin\\left(x\\right)}{x^{2} + 1}\\)</html>"
      ],
      "text/latex": [
       "$\\displaystyle x^{2} + \\frac{\\sin\\left(x\\right)}{x^{2} + 1}$"
      ],
      "text/plain": [
       "x^2 + sin(x)/(x^2 + 1)"
      ]
     },
     "metadata": {},
     "output_type": "display_data"
    }
   ],
   "source": [
    "expr = x^2 + sin(x) / (x^2 + 1)\n",
    "\n",
    "show(expr)"
   ]
  },
  {
   "cell_type": "markdown",
   "id": "9384a5cf-50b4-479a-91b2-73198ccbd231",
   "metadata": {},
   "source": [
    "Ale třeba i rovnice obsahující tuto proměnnou."
   ]
  },
  {
   "cell_type": "code",
   "execution_count": 4,
   "id": "771d6227-c34c-4af4-8acb-6b1f5f0aec66",
   "metadata": {},
   "outputs": [
    {
     "data": {
      "text/html": [
       "<html>\\(\\displaystyle e^{x} = 3\\)</html>"
      ],
      "text/latex": [
       "$\\displaystyle e^{x} = 3$"
      ],
      "text/plain": [
       "e^x == 3"
      ]
     },
     "metadata": {},
     "output_type": "display_data"
    }
   ],
   "source": [
    "show(exp(x) == 3)"
   ]
  },
  {
   "cell_type": "markdown",
   "id": "c46a8959-bc66-4ee9-8de9-51db835d2d65",
   "metadata": {},
   "source": [
    "Nebo nerovnice obsahující tuto proměnnou."
   ]
  },
  {
   "cell_type": "code",
   "execution_count": 5,
   "id": "e096898a-6093-422d-8f3c-05e68d7ec33b",
   "metadata": {},
   "outputs": [
    {
     "data": {
      "text/html": [
       "<html>\\(\\displaystyle {\\left(x + 2\\right)} {\\left(x - 1\\right)} > 0\\)</html>"
      ],
      "text/latex": [
       "$\\displaystyle {\\left(x + 2\\right)} {\\left(x - 1\\right)} > 0$"
      ],
      "text/plain": [
       "(x + 2)*(x - 1) > 0"
      ]
     },
     "metadata": {},
     "output_type": "display_data"
    }
   ],
   "source": [
    "show((x - 1)*(x + 2) > 0)"
   ]
  },
  {
   "cell_type": "markdown",
   "id": "51b2add7-565c-4a20-9344-a68c3799d3c7",
   "metadata": {},
   "source": [
    "K vypisování výrazů je vhodné používat funkci `show`, která nám výraz zobrazí pomocí LaTeXu. Bez ní bychom dostali pouze textovou reprezentaci, která v komplikovanějších případech nemusí být příliš čitelná.\n",
    "Srovnejte"
   ]
  },
  {
   "cell_type": "code",
   "execution_count": 6,
   "id": "5d801b94-501c-43c3-abe8-3b6fd865fa5c",
   "metadata": {},
   "outputs": [
    {
     "data": {
      "text/plain": [
       "1/x + e^(x^2)"
      ]
     },
     "execution_count": 6,
     "metadata": {},
     "output_type": "execute_result"
    }
   ],
   "source": [
    "1 / x + exp(x^2)"
   ]
  },
  {
   "cell_type": "markdown",
   "id": "c48f9996-1e5f-44b8-941b-9a10f3d8c01e",
   "metadata": {},
   "source": [
    "s"
   ]
  },
  {
   "cell_type": "code",
   "execution_count": 7,
   "id": "3aa5dd1d-2e34-4b7e-827d-0a48be9ed542",
   "metadata": {},
   "outputs": [
    {
     "data": {
      "text/html": [
       "<html>\\(\\displaystyle \\frac{1}{x} + e^{\\left(x^{2}\\right)}\\)</html>"
      ],
      "text/latex": [
       "$\\displaystyle \\frac{1}{x} + e^{\\left(x^{2}\\right)}$"
      ],
      "text/plain": [
       "1/x + e^(x^2)"
      ]
     },
     "metadata": {},
     "output_type": "display_data"
    }
   ],
   "source": [
    "show(1 / x + exp(x^2))"
   ]
  },
  {
   "cell_type": "markdown",
   "id": "c62f80e1-8256-4574-a051-f66d5365a4e9",
   "metadata": {},
   "source": [
    "Se symbolickými objekty lze dále pracovat mnoha způsoby, podrobněji se na toto téma podíváme v další sekci.\n",
    "Nyní ještě poznamenejme, že pod kapotou jde o [instance třídy `Expression`](https://doc.sagemath.org/html/en/reference/calculus/sage/symbolic/expression.html#sage.symbolic.expression.Expression)."
   ]
  },
  {
   "cell_type": "code",
   "execution_count": 8,
   "id": "da54db31-70bf-4fb8-ab4b-e468560985e1",
   "metadata": {},
   "outputs": [
    {
     "name": "stdout",
     "output_type": "stream",
     "text": [
      "<class 'sage.symbolic.expression.Expression'>\n",
      "<class 'sage.symbolic.expression.Expression'>\n",
      "<class 'sage.symbolic.expression.Expression'>\n"
     ]
    }
   ],
   "source": [
    "print(type(x + 1))\n",
    "print(type(x + 1 == 1))\n",
    "print(type(x + 1 > 2))"
   ]
  },
  {
   "cell_type": "markdown",
   "id": "6edf9630-98c6-4c48-bae0-543c428088ce",
   "metadata": {},
   "source": [
    "Python je objektový jazyk, jakého typu je takovýto symbolický výraz?\n",
    "Pomocí automatického doplňování sytaxe zkuste prozkoumat jeho vlastnosti (stiskněte TAB za tečkou)."
   ]
  },
  {
   "cell_type": "code",
   "execution_count": 9,
   "id": "0800839c-b384-4464-912b-b904b60aeea9",
   "metadata": {},
   "outputs": [],
   "source": [
    "# expr."
   ]
  },
  {
   "cell_type": "markdown",
   "id": "f046adcd-6f55-4556-8103-279c600b657d",
   "metadata": {},
   "source": [
    "Nejjednodušším úkonem se symbolickým výrazem je pravděpodobně **dosazování za proměnnou**.\n",
    "Symbolický výraz samozřejmě může záviset i na více proměnných.\n",
    "Dosazovat (\"substituovat\") lze několika různými způsoby."
   ]
  },
  {
   "cell_type": "code",
   "execution_count": 10,
   "id": "edd06e83-9b54-4780-8dfd-3a8673e6a7b6",
   "metadata": {},
   "outputs": [
    {
     "data": {
      "text/html": [
       "<html>\\(\\displaystyle \\frac{1}{4} \\, \\pi^{2} + \\frac{4}{\\pi^{2} + 4}\\)</html>"
      ],
      "text/latex": [
       "$\\displaystyle \\frac{1}{4} \\, \\pi^{2} + \\frac{4}{\\pi^{2} + 4}$"
      ],
      "text/plain": [
       "1/4*pi^2 + 4/(pi^2 + 4)"
      ]
     },
     "metadata": {},
     "output_type": "display_data"
    },
    {
     "data": {
      "text/html": [
       "<html>\\(\\displaystyle \\frac{1}{4} \\, \\pi^{2} + \\frac{4}{\\pi^{2} + 4}\\)</html>"
      ],
      "text/latex": [
       "$\\displaystyle \\frac{1}{4} \\, \\pi^{2} + \\frac{4}{\\pi^{2} + 4}$"
      ],
      "text/plain": [
       "1/4*pi^2 + 4/(pi^2 + 4)"
      ]
     },
     "metadata": {},
     "output_type": "display_data"
    }
   ],
   "source": [
    "# pomocí rovnosti\n",
    "show(expr(x = pi / 2))\n",
    "# pomocí slovníku\n",
    "show(expr({x: pi / 2}))"
   ]
  },
  {
   "cell_type": "markdown",
   "id": "84ac9fd1-9b39-4d56-a0bd-709a65a408a4",
   "metadata": {},
   "source": [
    "**Poznámka**: Vedle symbolických proměnných můžeme vytvářet i symbolické funkce, použijeme k tomu funkci `function`. Například nechť `f` je jistá funkce."
   ]
  },
  {
   "cell_type": "code",
   "execution_count": 11,
   "id": "c8febe63-8dee-42e6-83fd-3b18b68f718d",
   "metadata": {},
   "outputs": [
    {
     "data": {
      "text/plain": [
       "f"
      ]
     },
     "execution_count": 11,
     "metadata": {},
     "output_type": "execute_result"
    }
   ],
   "source": [
    "function('f')"
   ]
  },
  {
   "cell_type": "code",
   "execution_count": 12,
   "id": "cc26ac53-f786-4e9a-81ad-c1c6b3adf753",
   "metadata": {},
   "outputs": [
    {
     "data": {
      "text/plain": [
       "<class 'sage.symbolic.function_factory.function_factory.<locals>.NewSymbolicFunction'>"
      ]
     },
     "execution_count": 12,
     "metadata": {},
     "output_type": "execute_result"
    }
   ],
   "source": [
    "type(f)"
   ]
  },
  {
   "cell_type": "markdown",
   "id": "c781ecdf-a5d2-4608-a229-62f31b48f44e",
   "metadata": {},
   "source": [
    "Takovouto funkci pak můžeme také využít v symbolických výrazech:"
   ]
  },
  {
   "cell_type": "code",
   "execution_count": 13,
   "id": "2557370b-206d-439e-b9f1-d313f9cc4458",
   "metadata": {},
   "outputs": [
    {
     "data": {
      "text/html": [
       "<html>\\(\\displaystyle f\\left(x + 1\\right)\\)</html>"
      ],
      "text/latex": [
       "$\\displaystyle f\\left(x + 1\\right)$"
      ],
      "text/plain": [
       "f(x + 1)"
      ]
     },
     "metadata": {},
     "output_type": "display_data"
    }
   ],
   "source": [
    "show(f(x + 1))"
   ]
  },
  {
   "cell_type": "markdown",
   "id": "5a131152-59ae-4919-bb0c-f6162d8df3de",
   "metadata": {},
   "source": [
    "## 3.2 Jednoduché operace s výrazy\n",
    "\n",
    "Se symbolickými výrazy můžeme provádět základní algebraické operace, u nichž může dojít k jistému elementárnímu zjednodušení:"
   ]
  },
  {
   "cell_type": "code",
   "execution_count": 14,
   "id": "5d2bff16-ef6b-4b0e-b652-97eb42af2b6a",
   "metadata": {},
   "outputs": [
    {
     "data": {
      "text/html": [
       "<html>\\(\\displaystyle 2 \\, x\\)</html>"
      ],
      "text/latex": [
       "$\\displaystyle 2 \\, x$"
      ],
      "text/plain": [
       "2*x"
      ]
     },
     "metadata": {},
     "output_type": "display_data"
    }
   ],
   "source": [
    "# součet\n",
    "show(x + x)"
   ]
  },
  {
   "cell_type": "code",
   "execution_count": 15,
   "id": "a7465fc5-8acc-4c01-937c-c8deea1a0590",
   "metadata": {},
   "outputs": [
    {
     "data": {
      "text/html": [
       "<html>\\(\\displaystyle x^{2}\\)</html>"
      ],
      "text/latex": [
       "$\\displaystyle x^{2}$"
      ],
      "text/plain": [
       "x^2"
      ]
     },
     "metadata": {},
     "output_type": "display_data"
    }
   ],
   "source": [
    "# násobek\n",
    "show(x * x)"
   ]
  },
  {
   "cell_type": "code",
   "execution_count": 16,
   "id": "501da52a-4c56-4c44-8666-feab4e0ec7a8",
   "metadata": {},
   "outputs": [
    {
     "data": {
      "text/html": [
       "<html>\\(\\displaystyle \\frac{x}{x + 1}\\)</html>"
      ],
      "text/latex": [
       "$\\displaystyle \\frac{x}{x + 1}$"
      ],
      "text/plain": [
       "x/(x + 1)"
      ]
     },
     "metadata": {},
     "output_type": "display_data"
    }
   ],
   "source": [
    "# dělení\n",
    "show(x / (x + 1))"
   ]
  },
  {
   "cell_type": "code",
   "execution_count": 17,
   "id": "fbd55b1c-e5f8-4382-922b-c1483da256c5",
   "metadata": {},
   "outputs": [
    {
     "data": {
      "text/html": [
       "<html>\\(\\displaystyle x^{-x + 2}\\)</html>"
      ],
      "text/latex": [
       "$\\displaystyle x^{-x + 2}$"
      ],
      "text/plain": [
       "x^(-x + 2)"
      ]
     },
     "metadata": {},
     "output_type": "display_data"
    }
   ],
   "source": [
    "# mocnění (a odčítání)\n",
    "show(x ^ (2 - x))"
   ]
  },
  {
   "cell_type": "markdown",
   "id": "ba59600e-9a0d-4892-bff7-7799b811ec26",
   "metadata": {},
   "source": [
    "Bez problémů ale můžeme používat i známé matematické funkce:"
   ]
  },
  {
   "cell_type": "code",
   "execution_count": 18,
   "id": "8be63761-1f8d-44db-bbf2-63543a4a5df8",
   "metadata": {},
   "outputs": [
    {
     "data": {
      "text/html": [
       "<html>\\(\\displaystyle \\sin\\left(x + 2\\right)\\)</html>"
      ],
      "text/latex": [
       "$\\displaystyle \\sin\\left(x + 2\\right)$"
      ],
      "text/plain": [
       "sin(x + 2)"
      ]
     },
     "metadata": {},
     "output_type": "display_data"
    }
   ],
   "source": [
    "show(sin(x + 2))"
   ]
  },
  {
   "cell_type": "code",
   "execution_count": 19,
   "id": "7f8683db-2582-4948-9529-e80b857271d2",
   "metadata": {},
   "outputs": [
    {
     "data": {
      "text/html": [
       "<html>\\(\\displaystyle \\tan\\left(x^{2}\\right)\\)</html>"
      ],
      "text/latex": [
       "$\\displaystyle \\tan\\left(x^{2}\\right)$"
      ],
      "text/plain": [
       "tan(x^2)"
      ]
     },
     "metadata": {},
     "output_type": "display_data"
    }
   ],
   "source": [
    "show(tan(x^2))"
   ]
  },
  {
   "cell_type": "code",
   "execution_count": 20,
   "id": "74e852fa-2d71-475d-aad4-00f6278bb425",
   "metadata": {},
   "outputs": [
    {
     "data": {
      "text/html": [
       "<html>\\(\\displaystyle e^{x} \\log\\left(x\\right)\\)</html>"
      ],
      "text/latex": [
       "$\\displaystyle e^{x} \\log\\left(x\\right)$"
      ],
      "text/plain": [
       "e^x*log(x)"
      ]
     },
     "metadata": {},
     "output_type": "display_data"
    }
   ],
   "source": [
    "show(exp(x) * log(x))"
   ]
  },
  {
   "cell_type": "markdown",
   "id": "3dd279fb-2a12-4ee4-bbaf-75d37feff102",
   "metadata": {},
   "source": [
    "Ale například i:"
   ]
  },
  {
   "cell_type": "code",
   "execution_count": 21,
   "id": "8b52900c-1db8-4fae-8bbe-f12fe1d90ef2",
   "metadata": {},
   "outputs": [
    {
     "data": {
      "text/html": [
       "<html>\\(\\displaystyle \\left \\lfloor x \\right \\rfloor\\)</html>"
      ],
      "text/latex": [
       "$\\displaystyle \\left \\lfloor x \\right \\rfloor$"
      ],
      "text/plain": [
       "floor(x)"
      ]
     },
     "metadata": {},
     "output_type": "display_data"
    }
   ],
   "source": [
    "show(floor(x)) # dolní celá část"
   ]
  },
  {
   "cell_type": "code",
   "execution_count": 22,
   "id": "6f809e5a-ace5-4828-9209-d066a5b1b8d8",
   "metadata": {},
   "outputs": [
    {
     "data": {
      "text/html": [
       "<html>\\(\\displaystyle x!\\)</html>"
      ],
      "text/latex": [
       "$\\displaystyle x!$"
      ],
      "text/plain": [
       "factorial(x)"
      ]
     },
     "metadata": {},
     "output_type": "display_data"
    }
   ],
   "source": [
    "show(factorial(x)) # faktoriál"
   ]
  },
  {
   "cell_type": "markdown",
   "id": "79468525-195d-49d5-bd55-155a0547cdd5",
   "metadata": {},
   "source": [
    "Úplný seznam by byl velmi dlouhý, případně experimentujte s TAB nebo prohledejte dokumentaci."
   ]
  },
  {
   "cell_type": "markdown",
   "id": "9dee3ab2-e89f-4683-94ce-573d5f6d0652",
   "metadata": {},
   "source": [
    "Dejte si pozor na klasický neduh počítačových algebraických systémů, následující odpověď není v pořádku. Víte proč?"
   ]
  },
  {
   "cell_type": "code",
   "execution_count": 23,
   "id": "89a0da87-93ae-4280-840d-21c5e5498589",
   "metadata": {},
   "outputs": [
    {
     "data": {
      "text/plain": [
       "1"
      ]
     },
     "execution_count": 23,
     "metadata": {},
     "output_type": "execute_result"
    }
   ],
   "source": [
    "x / x"
   ]
  },
  {
   "cell_type": "markdown",
   "id": "21b5c6d1-a83c-498f-bbc2-dd215e362e23",
   "metadata": {},
   "source": [
    "V tomto případě je tato úprava vypadá nevinně, ale ve složitějších výpočtech nás může nepříjemně překvapit (navíc nikdy nevíte, kde jinde ještě dojde k nějaké nelegální úpravě)."
   ]
  },
  {
   "cell_type": "markdown",
   "id": "89b0d234-fc37-4dab-8755-f33c86e83b4b",
   "metadata": {},
   "source": [
    "## 3.3 Zjednodušování a složitější operace s výrazy\n",
    "\n",
    "SageMath, podobně jako _Mathematica_, umožňuje s výrazy provádět celou řadu algebraických úprav a využívat vlastnosti funkcí ve výrazu se vyskytujících.\n",
    "Můžeme ho proto používat na \"zjednodušování výrazů\".\n",
    "**Pozor**, úloha \"zjednodušení\" není dobře definována.\n",
    "Různé tvary jednoho výrazu mohou být \"jednoduché\" v závislosti na úhlu pohledu.\n",
    "\n",
    "Vyvořme si jednoduchý výraz pro testování."
   ]
  },
  {
   "cell_type": "code",
   "execution_count": 24,
   "id": "bde2d749-d6f4-41d5-9c9f-052853f45b14",
   "metadata": {},
   "outputs": [
    {
     "data": {
      "text/html": [
       "<html>\\(\\displaystyle {\\left(x + 4\\right)}^{5}\\)</html>"
      ],
      "text/latex": [
       "$\\displaystyle {\\left(x + 4\\right)}^{5}$"
      ],
      "text/plain": [
       "(x + 4)^5"
      ]
     },
     "metadata": {},
     "output_type": "display_data"
    }
   ],
   "source": [
    "expr = (x + 4)^5\n",
    "\n",
    "show(expr)"
   ]
  },
  {
   "cell_type": "markdown",
   "id": "1161c444-33a5-47a1-a463-39eaadd3e029",
   "metadata": {},
   "source": [
    "Proveďme **roznásobení** tohoto algebraického výrazu pomocí metody `expand`."
   ]
  },
  {
   "cell_type": "code",
   "execution_count": 25,
   "id": "b4eb4740-20b6-40af-9b59-7dbe2d443943",
   "metadata": {},
   "outputs": [
    {
     "data": {
      "text/html": [
       "<html>\\(\\displaystyle x^{5} + 20 \\, x^{4} + 160 \\, x^{3} + 640 \\, x^{2} + 1280 \\, x + 1024\\)</html>"
      ],
      "text/latex": [
       "$\\displaystyle x^{5} + 20 \\, x^{4} + 160 \\, x^{3} + 640 \\, x^{2} + 1280 \\, x + 1024$"
      ],
      "text/plain": [
       "x^5 + 20*x^4 + 160*x^3 + 640*x^2 + 1280*x + 1024"
      ]
     },
     "metadata": {},
     "output_type": "display_data"
    }
   ],
   "source": [
    "expr = expr.expand()\n",
    "show(expr)"
   ]
  },
  {
   "cell_type": "markdown",
   "id": "dda7eb7f-0f65-44f7-ad0b-284a6a0f76da",
   "metadata": {},
   "source": [
    "Naopak můžeme tento polynom upravit zpět na součin kořenových činitelů pomocí metody `factor`, která se snaží objekt rozložit na součin více objektů."
   ]
  },
  {
   "cell_type": "code",
   "execution_count": 26,
   "id": "a9984c64-1f6c-4aec-a63d-052c66edd0c8",
   "metadata": {},
   "outputs": [
    {
     "data": {
      "text/html": [
       "<html>\\(\\displaystyle {\\left(x + 4\\right)}^{5}\\)</html>"
      ],
      "text/latex": [
       "$\\displaystyle {\\left(x + 4\\right)}^{5}$"
      ],
      "text/plain": [
       "(x + 4)^5"
      ]
     },
     "metadata": {},
     "output_type": "display_data"
    }
   ],
   "source": [
    "expr = expr.factor()\n",
    "show(expr)"
   ]
  },
  {
   "cell_type": "markdown",
   "id": "4ca8a52b-fbf2-4056-8ab2-72952916a670",
   "metadata": {},
   "source": [
    "Analogicky se chová i pro celá čísla."
   ]
  },
  {
   "cell_type": "code",
   "execution_count": 27,
   "id": "e115feff-ffdf-428c-ba29-5412dce81bb7",
   "metadata": {},
   "outputs": [
    {
     "data": {
      "text/html": [
       "<html>\\(\\displaystyle 2^{2} \\cdot 3\\)</html>"
      ],
      "text/latex": [
       "$\\displaystyle 2^{2} \\cdot 3$"
      ],
      "text/plain": [
       "2^2 * 3"
      ]
     },
     "metadata": {},
     "output_type": "display_data"
    }
   ],
   "source": [
    "show(12.factor())"
   ]
  },
  {
   "cell_type": "markdown",
   "id": "93ec506c-4bf3-45c0-aa98-caf4996ca827",
   "metadata": {},
   "source": [
    "Stejným způsobem lze pracovat třeba i s trigonometrickými funkcemi."
   ]
  },
  {
   "cell_type": "code",
   "execution_count": 28,
   "id": "7fc961af-c4c7-496d-a397-d45e7fcc54f9",
   "metadata": {},
   "outputs": [
    {
     "data": {
      "text/html": [
       "<html>\\(\\displaystyle \\sin\\left(4 \\, x\\right)\\)</html>"
      ],
      "text/latex": [
       "$\\displaystyle \\sin\\left(4 \\, x\\right)$"
      ],
      "text/plain": [
       "sin(4*x)"
      ]
     },
     "metadata": {},
     "output_type": "display_data"
    }
   ],
   "source": [
    "expr = sin(4*x)\n",
    "\n",
    "show(expr)"
   ]
  },
  {
   "cell_type": "markdown",
   "id": "a0a362d4-2280-4d8b-abe8-f220f33ac60c",
   "metadata": {},
   "source": [
    "Pro rozepsání výrazu ovšem nyní musíme využít metodu `trig_expand`.\n",
    "Následující úprava je v podstatě vzorec pro sinus čtyřnásobného úhlu."
   ]
  },
  {
   "cell_type": "code",
   "execution_count": 29,
   "id": "4567306d-4300-46df-86e0-fc5eb8dd5801",
   "metadata": {},
   "outputs": [
    {
     "data": {
      "text/html": [
       "<html>\\(\\displaystyle 4 \\, \\cos\\left(x\\right)^{3} \\sin\\left(x\\right) - 4 \\, \\cos\\left(x\\right) \\sin\\left(x\\right)^{3}\\)</html>"
      ],
      "text/latex": [
       "$\\displaystyle 4 \\, \\cos\\left(x\\right)^{3} \\sin\\left(x\\right) - 4 \\, \\cos\\left(x\\right) \\sin\\left(x\\right)^{3}$"
      ],
      "text/plain": [
       "4*cos(x)^3*sin(x) - 4*cos(x)*sin(x)^3"
      ]
     },
     "metadata": {},
     "output_type": "display_data"
    }
   ],
   "source": [
    "expr = expr.trig_expand()\n",
    "\n",
    "show(expr)"
   ]
  },
  {
   "cell_type": "markdown",
   "id": "23369333-d8d1-4b12-b09e-1e118c65e7f9",
   "metadata": {},
   "source": [
    "V opačnem směru pak zabere metoda `trig_reduce`."
   ]
  },
  {
   "cell_type": "code",
   "execution_count": 30,
   "id": "880127d4-33d3-4b31-ab51-bfbfa599c53b",
   "metadata": {},
   "outputs": [
    {
     "data": {
      "text/html": [
       "<html>\\(\\displaystyle \\sin\\left(4 \\, x\\right)\\)</html>"
      ],
      "text/latex": [
       "$\\displaystyle \\sin\\left(4 \\, x\\right)$"
      ],
      "text/plain": [
       "sin(4*x)"
      ]
     },
     "metadata": {},
     "output_type": "display_data"
    }
   ],
   "source": [
    "expr = expr.trig_reduce()\n",
    "\n",
    "show(expr)"
   ]
  },
  {
   "cell_type": "markdown",
   "id": "2eddb978-8ffa-4fa2-8953-63c552ed2f30",
   "metadata": {},
   "source": [
    "Dále máme k dispozici výstižně pojmenované metody `simplify` a `simplify_full`, které se snaží na zadaný výraz aplikovat různé úpravy a výraz tak \"zjednodušit\".\n",
    "Podívejte se i na další podobně znějící metody (TAB).\n",
    "Například:"
   ]
  },
  {
   "cell_type": "code",
   "execution_count": 31,
   "id": "d53ce591-97bf-43f2-965f-90ea4bc1c01c",
   "metadata": {},
   "outputs": [
    {
     "data": {
      "text/html": [
       "<html>\\(\\displaystyle -{\\left(x^{2} + x + 1\\right)} {\\left(x - 1\\right)}\\)</html>"
      ],
      "text/latex": [
       "$\\displaystyle -{\\left(x^{2} + x + 1\\right)} {\\left(x - 1\\right)}$"
      ],
      "text/plain": [
       "-(x^2 + x + 1)*(x - 1)"
      ]
     },
     "metadata": {},
     "output_type": "display_data"
    }
   ],
   "source": [
    "expr = (1 - x) * (1 + x + x^2)\n",
    "\n",
    "show(expr)"
   ]
  },
  {
   "cell_type": "code",
   "execution_count": 32,
   "id": "1abea4ef-0ad0-4a85-9152-fe209a430ff8",
   "metadata": {},
   "outputs": [
    {
     "data": {
      "text/html": [
       "<html>\\(\\displaystyle -{\\left(x^{2} + x + 1\\right)} {\\left(x - 1\\right)}\\)</html>"
      ],
      "text/latex": [
       "$\\displaystyle -{\\left(x^{2} + x + 1\\right)} {\\left(x - 1\\right)}$"
      ],
      "text/plain": [
       "-(x^2 + x + 1)*(x - 1)"
      ]
     },
     "metadata": {},
     "output_type": "display_data"
    }
   ],
   "source": [
    "show(expr.simplify())"
   ]
  },
  {
   "cell_type": "code",
   "execution_count": 33,
   "id": "366f3bc0-f90d-48e1-a5a5-23c1446b2338",
   "metadata": {},
   "outputs": [
    {
     "data": {
      "text/html": [
       "<html>\\(\\displaystyle -x^{3} + 1\\)</html>"
      ],
      "text/latex": [
       "$\\displaystyle -x^{3} + 1$"
      ],
      "text/plain": [
       "-x^3 + 1"
      ]
     },
     "metadata": {},
     "output_type": "display_data"
    }
   ],
   "source": [
    "show(expr.simplify_full())"
   ]
  },
  {
   "cell_type": "markdown",
   "id": "2e66e63e-5e75-48e3-a30a-7e332ba92dac",
   "metadata": {},
   "source": [
    "**Tip**: Doporučuji tyto metody využít při kontrole správnosti vašich úprav: zjednodušte rozdíl původního a vašeho výrazu, chcete dostat nulu (velmi zjednodušený výraz)."
   ]
  },
  {
   "cell_type": "code",
   "execution_count": 34,
   "id": "c382529f-a453-4f04-b222-2d7e5c7529f5",
   "metadata": {},
   "outputs": [],
   "source": [
    "expr1 = cos(x)^2 - sin(x)^2\n",
    "expr2 = cos(2 * x)"
   ]
  },
  {
   "cell_type": "code",
   "execution_count": 35,
   "id": "56eb84ba-1c17-47e5-82dc-7540f91da042",
   "metadata": {},
   "outputs": [
    {
     "data": {
      "text/plain": [
       "0"
      ]
     },
     "execution_count": 35,
     "metadata": {},
     "output_type": "execute_result"
    }
   ],
   "source": [
    "(expr1 - expr2).simplify_full()"
   ]
  },
  {
   "cell_type": "markdown",
   "id": "fa303c40-2446-4301-8aa7-f5681c8d5e26",
   "metadata": {},
   "source": [
    "## 3.4 Řešení (nelineárních) rovnic\n",
    "\n",
    "Pro řešení lineárních rovnic, což je jednoduchá úloha, má SageMath k dispozici lineárně algebraické nástroje, do kterých zde nebudeme zabíhat.\n",
    "Při studiu BI-MA1 nás spíše trápí různé nelineární rovnice.\n",
    "V tom případě je hledání jejich řešení výrazně komplikovanější úloha.\n",
    "Analytické, exaktní, řešení existuje typicky jen v speciálních případech.\n",
    "V drtivé většině případů, které se ovšem typicky nevyskytují ve školních příkladech, je nutné využít numerických metod."
   ]
  },
  {
   "cell_type": "markdown",
   "id": "8105285a-2d76-4301-9fe3-aa706bb4f210",
   "metadata": {},
   "source": [
    "Ukažme si nejprve, jak v SageMath vyřešit jednoduchou kvadratickou rovnici.\n",
    "Využijeme funkci `solve`, které předáme rovnici (případně list rovnic) a neznámou (případně list neznámých):"
   ]
  },
  {
   "cell_type": "code",
   "execution_count": 36,
   "id": "0283f261-ac1e-475d-aceb-31cc158b4154",
   "metadata": {},
   "outputs": [
    {
     "data": {
      "text/plain": [
       "[x == -2, x == (1/2)]"
      ]
     },
     "execution_count": 36,
     "metadata": {},
     "output_type": "execute_result"
    }
   ],
   "source": [
    "solve(2*x^2 + 3*x - 2 == 0, x)"
   ]
  },
  {
   "cell_type": "markdown",
   "id": "918dfbe3-c9a2-4015-8223-5e66cd4f5601",
   "metadata": {},
   "source": [
    "V příapdě úspěchu odpověď dostáváme ve formě listu s vyjádřením proměnných.\n",
    "To často není úplně praktické, můžeme požádat i o slovník (s kterým se pak i lépe pracuje, nebo dosazuje)."
   ]
  },
  {
   "cell_type": "code",
   "execution_count": 37,
   "id": "67ec9d24-d6c2-4937-9ee1-bd852a804193",
   "metadata": {},
   "outputs": [
    {
     "data": {
      "text/plain": [
       "[{x: -2}, {x: 1/2}]"
      ]
     },
     "execution_count": 37,
     "metadata": {},
     "output_type": "execute_result"
    }
   ],
   "source": [
    "solve(2*x^2 + 3*x - 2 == 0, x, solution_dict=True)"
   ]
  },
  {
   "cell_type": "markdown",
   "id": "896930ba-32c3-42a0-a709-0fae1718a104",
   "metadata": {},
   "source": [
    "Vidíme, že rovnice má dvě reálná řešení."
   ]
  },
  {
   "cell_type": "markdown",
   "id": "51a20132-4d2b-472e-876e-14a01622d664",
   "metadata": {},
   "source": [
    "SageMath by si měl poradit i s jednoduchými nerovnostmi:"
   ]
  },
  {
   "cell_type": "code",
   "execution_count": 38,
   "id": "14233146-2b72-4ce9-9020-71c9b0d4ca1f",
   "metadata": {},
   "outputs": [
    {
     "data": {
      "text/plain": [
       "[[x >= -2, x <= (1/2)]]"
      ]
     },
     "execution_count": 38,
     "metadata": {},
     "output_type": "execute_result"
    }
   ],
   "source": [
    "solve(2*x^2 + 3*x - 2 <= 0, x)"
   ]
  },
  {
   "cell_type": "markdown",
   "id": "c53f2f73-78c2-4e81-a44f-75b0f15e0896",
   "metadata": {},
   "source": [
    "nebo"
   ]
  },
  {
   "cell_type": "code",
   "execution_count": 39,
   "id": "d2f852a6-3389-4523-810d-fbb169267272",
   "metadata": {},
   "outputs": [
    {
     "data": {
      "text/plain": [
       "[[0 < x]]"
      ]
     },
     "execution_count": 39,
     "metadata": {},
     "output_type": "execute_result"
    }
   ],
   "source": [
    "solve(x * exp(x) > 0, x)"
   ]
  },
  {
   "cell_type": "markdown",
   "id": "0f9fd060-f4ff-44a0-8a7f-741de0f31772",
   "metadata": {},
   "source": [
    "Pokud si SageMath s úlohou neporadí, tak nám dá tautologickou odpověď:"
   ]
  },
  {
   "cell_type": "code",
   "execution_count": 40,
   "id": "e104877a-264f-40a6-84a4-a8335f973543",
   "metadata": {},
   "outputs": [
    {
     "data": {
      "text/plain": [
       "[[x*e^x - 1 > 0]]"
      ]
     },
     "execution_count": 40,
     "metadata": {},
     "output_type": "execute_result"
    }
   ],
   "source": [
    "solve(x * exp(x) > 1, x)"
   ]
  },
  {
   "cell_type": "markdown",
   "id": "513aabf8-65df-4ff9-b2e6-0ae4097b46d5",
   "metadata": {},
   "source": [
    "Tyto dva příklady ukazují na poměrně typickou situaci: drobounká změna zadání z jednoduchého příkladu dělá neřešitelný problém (našimi aktuálními metodami)."
   ]
  }
 ],
 "metadata": {
  "kernelspec": {
   "display_name": "SageMath 9.8",
   "language": "sage",
   "name": "sagemath"
  },
  "language_info": {
   "codemirror_mode": {
    "name": "ipython",
    "version": 3
   },
   "file_extension": ".py",
   "mimetype": "text/x-python",
   "name": "python",
   "nbconvert_exporter": "python",
   "pygments_lexer": "ipython3",
   "version": "3.9.16"
  }
 },
 "nbformat": 4,
 "nbformat_minor": 5
}
