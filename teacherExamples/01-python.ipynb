{
 "cells": [
  {
   "cell_type": "markdown",
   "id": "03eb1241",
   "metadata": {},
   "source": [
    "# 1. SageMath & Python\n",
    "\n",
    "Počítačový algebraický systém [SageMath](https://www.sagemath.org) (zkráceně též \"Sage\") je založen na rozšířeném programovacím jazyku [Python](https://www.python.org). Díky tomu SageMath obsahuje celou řadu zajímavých matematických balíčků (knihoven) dostupných v Python prostředí (např. [NumPy](https://numpy.org), [SymPy](https://www.sympy.org) a další). Řada funkcionalit v SageMath je implementována formou bezešvého rozhraní k jinému _open-source_ matematickému programu či knihovně. Například některé symbolické operace (úpravy algebraických výrazů, symbolická integrace) jsou prováděny pomocí programu [Maxima](http://maxima.sourceforge.net/).\n",
    "Kompletní seznam takovýchto programů a knihoven lze nalézt [v dokumentaci](https://doc.sagemath.org/html/en/reference/spkg/index.html).\n",
    "\n",
    "Python, jakožto interpretovaný jazyk, je pomalý. To nám ale nevadí. SageMath ho využívá primárně (pokud to lze) pouze jako pojivo. Kritické výpočty využívají [Cython](https://cython.org) (rozšíření Python vytvořené pro vývoji SageMath, ale s širším využitím), nebo specializovanou knihovnu napsanou v nějakém - pro tyto účely vhodnějším - jazyce (C, FORTRAN, atp.). I výše zmíněný a veleznámý Python balíček NumPy, umožňující provádět lineárně-algebraické numerické operace, je ve skutečnosti pouze Python rozhranní k C a FORTRAN knihovnám.\n",
    "\n",
    "Orientovat se v Pythonu, alespoň na základní úrovni, je proto důležité.\n",
    "V této kapitole shrneme to nejnutnější minimum týkající se jazyka Python, aby případní čtenáři neměli problém chápat další výklad. Čtenáři prahnoucí po hlubším proniknutí do tohoto programovacího jazyka nebudou mít problém nalézt zajímavé studijní zdroje na internetu.\n",
    "Na FIT ČVUT navíc existují dva předměty dedikované Pythonu: bakalářský [BI-PYT](https://courses.fit.cvut.cz/BI-PYT) a magisterský [NI-PYT](https://courses.fit.cvut.cz/BI-PYT)."
   ]
  },
  {
   "cell_type": "markdown",
   "id": "fa424a8f-f30d-4081-b8d6-241b12be34ee",
   "metadata": {},
   "source": [
    "## 1.1 Instalace SageMath\n",
    "\n",
    "Stačí postupovat podle [instalačních pokynů](https://doc.sagemath.org/html/en/installation/index.html).\n",
    "V dnešní době by neměl být problém zprovoznit SageMath na vašem oblíbeném operačním systému.\n",
    "Alternativně mohou uživatelé využít on-line službu [CoCalc](https://cocalc.com).\n",
    "\n",
    "Tyto notebooky pak můžete zobrazit experimentovat s nimi v [Jupyter Notebooku](https://jupyter.org), který jsou součásti SageMath.\n",
    "Z příkazové řádky server spustíte příkazem\n",
    "\n",
    "```sh\n",
    "$ sage --notebook\n",
    "```\n",
    "\n",
    "Automaticky by se pak měla otevřít stránka ve vašem výchozím prohlížeči."
   ]
  },
  {
   "cell_type": "markdown",
   "id": "28ea267a-043f-4407-8d20-e0c03bd9b4d2",
   "metadata": {},
   "source": [
    "## 1.2 Proměnné\n",
    "\n",
    "V Pythonu není potřeba deklarovat typ proměnných, k inicializaci se používá standardní symbol přiřazení `=`.\n",
    "Kód v následující buňce vyhodnotíte stiskem SHIFT+ENTER.\n",
    "Jupyter Notebook vypíše hodnotu posledního výrazu, k výpisu více hodnot lze použít funkci `print` nebo `show` (viz níže)."
   ]
  },
  {
   "cell_type": "code",
   "execution_count": 2,
   "id": "5460ec60",
   "metadata": {},
   "outputs": [
    {
     "name": "stdout",
     "output_type": "stream",
     "text": [
      "4\n",
      "Hello world!\n"
     ]
    }
   ],
   "source": [
    "a = 4               # integer\n",
    "print(a)            # výpis na stadardní výstup pomocí `print`\n",
    "\n",
    "a = 'Hello world!'  # řetězec, lze použít \" i '\n",
    "print(a)"
   ]
  },
  {
   "cell_type": "markdown",
   "id": "8d526eb9-d9b1-4022-9a39-b8d78eca3f9e",
   "metadata": {},
   "source": [
    "Přiřazení čísel a řetězců předává _hodnotu_:"
   ]
  },
  {
   "cell_type": "code",
   "execution_count": 3,
   "id": "52226a35-37e9-4e4c-9074-e40e62fc68ed",
   "metadata": {},
   "outputs": [
    {
     "name": "stdout",
     "output_type": "stream",
     "text": [
      "Hello world!\n",
      "12\n"
     ]
    }
   ],
   "source": [
    "b = a    # <- a nese hodnotu 'Hello world!'\n",
    "b = 12   # <- původní hodnota a nebude změněna\n",
    "\n",
    "print(a)\n",
    "print(b)"
   ]
  },
  {
   "cell_type": "markdown",
   "id": "5cd10d56-d128-4728-905b-ddd4245be179",
   "metadata": {},
   "source": [
    "## 1.3 _List_ (pole) a _tuple_ (ntice)"
   ]
  },
  {
   "cell_type": "markdown",
   "id": "cd2b83c8",
   "metadata": {},
   "source": [
    "Často používanou datovou strukturou je tzv. `list`, či pole.\n",
    "Pokud chceme `list` zadat explicitně používáme k tomu hranaté závorky a prvky oddělujeme čárkami.\n",
    "K prvkům pole pak přistupujeme pomocí indexu běžícího od nuly.\n",
    "Počet prvků listu získáme pomocí funkce `len`."
   ]
  },
  {
   "cell_type": "code",
   "execution_count": 4,
   "id": "5ce7c5eb",
   "metadata": {},
   "outputs": [
    {
     "name": "stdout",
     "output_type": "stream",
     "text": [
      "B\n",
      "3\n"
     ]
    }
   ],
   "source": [
    "a = [1, 'B', pi ]\n",
    "\n",
    "print(a[1])\n",
    "print(len(a))"
   ]
  },
  {
   "cell_type": "markdown",
   "id": "b8b9f5ce-581f-4a92-95bb-499b735d682b",
   "metadata": {},
   "source": [
    "Pozor, přiřazení nyní předává jen referenci na objekt. Tj.:"
   ]
  },
  {
   "cell_type": "code",
   "execution_count": 5,
   "id": "3c6ce894-ad53-4f51-9ea8-adac4169b0f1",
   "metadata": {},
   "outputs": [
    {
     "name": "stdout",
     "output_type": "stream",
     "text": [
      "[1, 100, 'Ahoj!']\n",
      "[1, 100, 'Ahoj!']\n"
     ]
    }
   ],
   "source": [
    "b = a           # <- b i a ukazují na stejný list\n",
    "\n",
    "a[1] = 100\n",
    "b[2] = 'Ahoj!'\n",
    "\n",
    "print(a)        # oba výpisy jsou shodné, výše jsme změnili jeden\n",
    "print(b)        # a ten samý list!"
   ]
  },
  {
   "cell_type": "markdown",
   "id": "ffd81f41-16ee-48a7-8882-0cfb5e1c60d5",
   "metadata": {},
   "source": [
    "Prvky pole jak vidno můžeme měnit (jde o _mutable_ objekt).\n",
    "Oproti tomu prvky _tuple_ (ntice) měnit nemůžeme (jde o _immutable_ objekt).\n",
    "Tuple vytvoříme pomocí kulatých závorek a k jeho prvkům přistupujeme také pomocí hranatých závorek:"
   ]
  },
  {
   "cell_type": "code",
   "execution_count": 6,
   "id": "6f347e0d-7feb-4002-a69f-c68396e1587b",
   "metadata": {},
   "outputs": [
    {
     "data": {
      "text/plain": [
       "sin"
      ]
     },
     "execution_count": 6,
     "metadata": {},
     "output_type": "execute_result"
    }
   ],
   "source": [
    "t = (4, \"dva\", sin)\n",
    "\n",
    "t[2]"
   ]
  },
  {
   "cell_type": "markdown",
   "id": "1eb6ed5b-8d96-44b4-b578-209992ef99b1",
   "metadata": {},
   "source": [
    "Pozor, případnou 1tici musíme zadat jako `(42,)`, výraz `(42)` by byl vyhodnocen jakou pouhé celé číslo."
   ]
  },
  {
   "cell_type": "code",
   "execution_count": 7,
   "id": "4ce8dd40-dfde-4bf9-8a3f-258a7e6cf467",
   "metadata": {},
   "outputs": [
    {
     "data": {
      "text/plain": [
       "False"
      ]
     },
     "execution_count": 7,
     "metadata": {},
     "output_type": "execute_result"
    }
   ],
   "source": [
    "(42,) == 42"
   ]
  },
  {
   "cell_type": "markdown",
   "id": "0060cd0b-5b73-4ef0-8414-25da4a27c527",
   "metadata": {},
   "source": [
    "## 1.4 _Dictionary_ (slovník)\n",
    "\n",
    "Pro práci s zobrazeními klíč-hodnota slouží slovníky."
   ]
  },
  {
   "cell_type": "code",
   "execution_count": 7,
   "id": "0ba5ec27-d2cb-4bca-b832-a168f5dea41c",
   "metadata": {},
   "outputs": [
    {
     "name": "stdout",
     "output_type": "stream",
     "text": [
      "{'a': 42, 'b': 'Ahoj!'}\n"
     ]
    }
   ],
   "source": [
    "d = dict()        # vytvoří prázdný slovník\n",
    "\n",
    "d['a'] = 42       # pod klíčem 'a' uloží hodnotu 42\n",
    "d['b'] = 'Ahoj!'  # pod klíčem 'b' uloží hodnotu 'Ahoj!'\n",
    "\n",
    "print(d)"
   ]
  },
  {
   "cell_type": "markdown",
   "id": "9055e16e-e4c6-477a-819d-cc774f7383b7",
   "metadata": {},
   "source": [
    "Alternativně můžeme použít rovnou složených závorek:"
   ]
  },
  {
   "cell_type": "code",
   "execution_count": 8,
   "id": "37d6a217-733b-4636-9335-fcec4f949262",
   "metadata": {},
   "outputs": [
    {
     "name": "stdout",
     "output_type": "stream",
     "text": [
      "{1: 'Hello', 2: 'World', 'a': 'b'}\n"
     ]
    }
   ],
   "source": [
    "dd = { 1: 'Hello', 2: 'World', 'a': 'b' }\n",
    "\n",
    "print(dd)"
   ]
  },
  {
   "cell_type": "markdown",
   "id": "0ede7d3a-d2b5-42de-be15-ba3ef2ce1d63",
   "metadata": {},
   "source": [
    "## 1.5 Řídící struktury"
   ]
  },
  {
   "cell_type": "markdown",
   "id": "a05a131b",
   "metadata": {},
   "source": [
    "Nyní se podívejme na jednu specifickou, a pro nováčka potenciálně matoucí vlastnost Pythonu.\n",
    "K oddělení bloku kódu se nepoužívá klíčových slov, ani závorek, ale odsazení.\n",
    "Demonstrujme tento jev na ukázce _if-then-else_ řídící struktury."
   ]
  },
  {
   "cell_type": "code",
   "execution_count": 9,
   "id": "d7f716dc",
   "metadata": {},
   "outputs": [
    {
     "name": "stdout",
     "output_type": "stream",
     "text": [
      "Ano!\n"
     ]
    }
   ],
   "source": [
    "if pi > 3:\n",
    "    print('Ano!')\n",
    "else:\n",
    "    print('Ne!')"
   ]
  },
  {
   "cell_type": "markdown",
   "id": "6a15971e-f603-4cc2-858b-c1714e0f1a67",
   "metadata": {},
   "source": [
    "V případě více možností můžeme přidat i podmínky `elif`."
   ]
  },
  {
   "cell_type": "markdown",
   "id": "80c252bd",
   "metadata": {},
   "source": [
    "Podobně se chová známý `for` cyklus (pod `range(4)` je dobré představovat si množinu indexů od $0$ do $3$, tedy délky $4$):"
   ]
  },
  {
   "cell_type": "code",
   "execution_count": 10,
   "id": "cfe882a3",
   "metadata": {},
   "outputs": [
    {
     "name": "stdout",
     "output_type": "stream",
     "text": [
      "0\n",
      "1\n",
      "4\n",
      "9\n"
     ]
    }
   ],
   "source": [
    "for k in range(4):\n",
    "    y = k^2\n",
    "    print(y)"
   ]
  },
  {
   "cell_type": "markdown",
   "id": "dff83881-0552-416e-994d-f05588f2c757",
   "metadata": {},
   "source": [
    "Často se hodí i jednoduchý `while` cyklus."
   ]
  },
  {
   "cell_type": "code",
   "execution_count": 11,
   "id": "023d275e-b336-43ad-9851-250982974577",
   "metadata": {},
   "outputs": [
    {
     "name": "stdout",
     "output_type": "stream",
     "text": [
      "50\n",
      "38\n",
      "26\n",
      "14\n",
      "2\n"
     ]
    }
   ],
   "source": [
    "j = 50\n",
    "\n",
    "while j > 0:\n",
    "    print(j)\n",
    "    j = j - 12"
   ]
  },
  {
   "cell_type": "markdown",
   "id": "e5ce7f13-b89e-4d1a-bb83-6d34789858ff",
   "metadata": {},
   "source": [
    "## 1.6 Funkce a metody\n",
    "\n",
    "Pokud chceme definovat vlastní funkci, použijeme pro to klíčové slovo `def`.\n",
    "Všimněte si opět odsazení."
   ]
  },
  {
   "cell_type": "code",
   "execution_count": 12,
   "id": "68904b40",
   "metadata": {},
   "outputs": [],
   "source": [
    "def f(x):\n",
    "    \"\"\"\n",
    "    Báječná funkce umožňující vypočítat čtyřnásobek svého argumentu.\n",
    "    \"\"\"\n",
    "    y = 4 * x\n",
    "    \n",
    "    return y"
   ]
  },
  {
   "cell_type": "markdown",
   "id": "3342ba33",
   "metadata": {},
   "source": [
    "Dále je dobré zdůraznit, že u argumentů funkcí není potřeba udávat jejich typ.\n",
    "Naše funkce bude fungovat na všech objektech, pro které lze provést operace uvedené v těle funkce.\n",
    "Například:"
   ]
  },
  {
   "cell_type": "code",
   "execution_count": 8,
   "id": "b9bd58b8",
   "metadata": {},
   "outputs": [
    {
     "ename": "NameError",
     "evalue": "name 'f' is not defined",
     "output_type": "error",
     "traceback": [
      "\u001b[0;31m---------------------------------------------------------------------------\u001b[0m",
      "\u001b[0;31mNameError\u001b[0m                                 Traceback (most recent call last)",
      "Cell \u001b[0;32mIn[8], line 1\u001b[0m\n\u001b[0;32m----> 1\u001b[0m show(\u001b[43mf\u001b[49m(Integer(\u001b[38;5;241m4\u001b[39m)))\n\u001b[1;32m      2\u001b[0m show(f(pi))\n\u001b[1;32m      3\u001b[0m show(f(\u001b[38;5;124m'\u001b[39m\u001b[38;5;124mAhoj!\u001b[39m\u001b[38;5;124m'\u001b[39m))\n",
      "\u001b[0;31mNameError\u001b[0m: name 'f' is not defined"
     ]
    }
   ],
   "source": [
    "show(f(4))\n",
    "show(f(pi))\n",
    "show(f('Ahoj!'))"
   ]
  },
  {
   "cell_type": "markdown",
   "id": "94158356",
   "metadata": {},
   "source": [
    "Python je objektový jazyk.\n",
    "Prostředí _SageMath Notebook_ nabízí kontextovou nápovědu snadno vyvolatelnou pomocí klávesy TAB.\n",
    "Zkuste nastavit kurzor za tečku a stisknout ji, získáte tak výpis vlastností a metod, které daný objekt poskytuje."
   ]
  },
  {
   "cell_type": "code",
   "execution_count": 14,
   "id": "ff1f9677",
   "metadata": {},
   "outputs": [
    {
     "name": "stdout",
     "output_type": "stream",
     "text": [
      "Je prvočíslo?\n",
      "False\n",
      "Faktorizace:\n"
     ]
    },
    {
     "data": {
      "text/html": [
       "<html>\\(\\displaystyle 3^{2}\\)</html>"
      ],
      "text/latex": [
       "$\\displaystyle 3^{2}$"
      ],
      "text/plain": [
       "3^2"
      ]
     },
     "metadata": {},
     "output_type": "display_data"
    }
   ],
   "source": [
    "a = 9                   # malé celé číslo\n",
    "\n",
    "print('Je prvočíslo?')\n",
    "print(a.is_prime())\n",
    "\n",
    "print('Faktorizace:')\n",
    "show(a.factor())"
   ]
  },
  {
   "cell_type": "markdown",
   "id": "bc4c309c",
   "metadata": {},
   "source": [
    "Ve výpisech používáme dvě metody: `print` a `show`. První uvedená vytváří textovou reprezentaci objektu. Druhá se snaží objekt zobrazit skutečně hezky (vzorce pomocí LaTeXu, poradí si s grafickými objekty, atp.)."
   ]
  },
  {
   "cell_type": "markdown",
   "id": "fa8b5a59-d100-4aca-9399-6b183d5a8720",
   "metadata": {},
   "source": [
    "## 1.7 Dokumentace a dál..."
   ]
  },
  {
   "cell_type": "markdown",
   "id": "0b7474a3",
   "metadata": {},
   "source": [
    "Pokud si nevíme rady s jistou funkcí, můžeme vyvolat nápovědu po stisknoutí TAB klávesy za otevírací závorkou.\n",
    "Případně lze nápovědu vypsat pomocí otazníku za názvem funkce."
   ]
  },
  {
   "cell_type": "code",
   "execution_count": 15,
   "id": "d3f4d3e8",
   "metadata": {},
   "outputs": [
    {
     "data": {
      "text/plain": [
       "\u001b[0;31mDocstring:\u001b[0m     \n",
       "   Test whether \"self\" is prime.\n",
       "\n",
       "   INPUT:\n",
       "\n",
       "   * \"proof\" -- Boolean or \"None\" (default). If False, use a strong\n",
       "     pseudo-primality test (see \"is_pseudoprime()\"). If True, use a\n",
       "     provable primality test.  If unset, use the \"default arithmetic\n",
       "     proof flag\".\n",
       "\n",
       "   Note:\n",
       "\n",
       "     Integer primes are by definition *positive*! This is different\n",
       "     than Magma, but the same as in PARI. See also the\n",
       "     \"is_irreducible()\" method.\n",
       "\n",
       "   EXAMPLES:\n",
       "\n",
       "      sage: z = 2^31 - 1\n",
       "      sage: z.is_prime()\n",
       "      True\n",
       "      sage: z = 2^31\n",
       "      sage: z.is_prime()\n",
       "      False\n",
       "      sage: z = 7\n",
       "      sage: z.is_prime()\n",
       "      True\n",
       "      sage: z = -7\n",
       "      sage: z.is_prime()\n",
       "      False\n",
       "      sage: z.is_irreducible()\n",
       "      True\n",
       "\n",
       "      sage: z = 10^80 + 129\n",
       "      sage: z.is_prime(proof=False)\n",
       "      True\n",
       "      sage: z.is_prime(proof=True)\n",
       "      True\n",
       "\n",
       "   When starting Sage the arithmetic proof flag is True. We can change\n",
       "   it to False as follows:\n",
       "\n",
       "      sage: proof.arithmetic()\n",
       "      True\n",
       "      sage: n = 10^100 + 267\n",
       "      sage: timeit(\"n.is_prime()\")  # not tested\n",
       "      5 loops, best of 3: 163 ms per loop\n",
       "      sage: proof.arithmetic(False)\n",
       "      sage: proof.arithmetic()\n",
       "      False\n",
       "      sage: timeit(\"n.is_prime()\")  # not tested\n",
       "      1000 loops, best of 3: 573 us per loop\n",
       "\n",
       "   ALGORITHM:\n",
       "\n",
       "   Calls the PARI \"isprime\" function.\n",
       "\u001b[0;31mInit docstring:\u001b[0m Initialize self.  See help(type(self)) for accurate signature.\n",
       "\u001b[0;31mFile:\u001b[0m           ~/src/sage/src/sage/rings/integer.pyx\n",
       "\u001b[0;31mType:\u001b[0m           builtin_function_or_method\n"
      ]
     },
     "metadata": {},
     "output_type": "display_data"
    }
   ],
   "source": [
    "# vyhodnoťte tuto buňku stiskem SHIFT+ENTER\n",
    "a.is_prime?"
   ]
  },
  {
   "cell_type": "code",
   "execution_count": 16,
   "id": "4b0cafe0-d908-4294-8b1b-68b413d9a0b4",
   "metadata": {},
   "outputs": [
    {
     "data": {
      "text/plain": [
       "\u001b[0;31mSignature:\u001b[0m      \u001b[0mf\u001b[0m\u001b[0;34m(\u001b[0m\u001b[0mx\u001b[0m\u001b[0;34m)\u001b[0m\u001b[0;34m\u001b[0m\u001b[0;34m\u001b[0m\u001b[0m\n",
       "\u001b[0;31mDocstring:\u001b[0m         Báječná funkce umožňující vypočítat čtyřnásobek svého argumentu.\n",
       "\u001b[0;31mInit docstring:\u001b[0m Initialize self.  See help(type(self)) for accurate signature.\n",
       "\u001b[0;31mFile:\u001b[0m           /tmp/ipykernel_394624/757238393.py\n",
       "\u001b[0;31mType:\u001b[0m           function\n"
      ]
     },
     "metadata": {},
     "output_type": "display_data"
    }
   ],
   "source": [
    "f?"
   ]
  },
  {
   "cell_type": "markdown",
   "id": "bda39590",
   "metadata": {},
   "source": [
    "Dva otazníky zobrazí zdrojový kód."
   ]
  },
  {
   "cell_type": "code",
   "execution_count": 17,
   "id": "026bb640",
   "metadata": {},
   "outputs": [
    {
     "data": {
      "text/plain": [
       "\u001b[0;31mDocstring:\u001b[0m\n",
       "   Test whether \"self\" is prime.\n",
       "\n",
       "   INPUT:\n",
       "\n",
       "   * \"proof\" -- Boolean or \"None\" (default). If False, use a strong\n",
       "     pseudo-primality test (see \"is_pseudoprime()\"). If True, use a\n",
       "     provable primality test.  If unset, use the \"default arithmetic\n",
       "     proof flag\".\n",
       "\n",
       "   Note:\n",
       "\n",
       "     Integer primes are by definition *positive*! This is different\n",
       "     than Magma, but the same as in PARI. See also the\n",
       "     \"is_irreducible()\" method.\n",
       "\n",
       "   EXAMPLES:\n",
       "\n",
       "      sage: z = 2^31 - 1\n",
       "      sage: z.is_prime()\n",
       "      True\n",
       "      sage: z = 2^31\n",
       "      sage: z.is_prime()\n",
       "      False\n",
       "      sage: z = 7\n",
       "      sage: z.is_prime()\n",
       "      True\n",
       "      sage: z = -7\n",
       "      sage: z.is_prime()\n",
       "      False\n",
       "      sage: z.is_irreducible()\n",
       "      True\n",
       "\n",
       "      sage: z = 10^80 + 129\n",
       "      sage: z.is_prime(proof=False)\n",
       "      True\n",
       "      sage: z.is_prime(proof=True)\n",
       "      True\n",
       "\n",
       "   When starting Sage the arithmetic proof flag is True. We can change\n",
       "   it to False as follows:\n",
       "\n",
       "      sage: proof.arithmetic()\n",
       "      True\n",
       "      sage: n = 10^100 + 267\n",
       "      sage: timeit(\"n.is_prime()\")  # not tested\n",
       "      5 loops, best of 3: 163 ms per loop\n",
       "      sage: proof.arithmetic(False)\n",
       "      sage: proof.arithmetic()\n",
       "      False\n",
       "      sage: timeit(\"n.is_prime()\")  # not tested\n",
       "      1000 loops, best of 3: 573 us per loop\n",
       "\n",
       "   ALGORITHM:\n",
       "\n",
       "   Calls the PARI \"isprime\" function.\n",
       "\u001b[0;31mSource:\u001b[0m   \n",
       "    \u001b[0;32mdef\u001b[0m \u001b[0mis_prime\u001b[0m\u001b[0;34m(\u001b[0m\u001b[0mself\u001b[0m\u001b[0;34m,\u001b[0m \u001b[0mproof\u001b[0m\u001b[0;34m=\u001b[0m\u001b[0;32mNone\u001b[0m\u001b[0;34m)\u001b[0m\u001b[0;34m:\u001b[0m\u001b[0;34m\u001b[0m\n",
       "\u001b[0;34m\u001b[0m        \u001b[0;34mr\"\"\"\u001b[0m\n",
       "\u001b[0;34m        Test whether ``self`` is prime.\u001b[0m\n",
       "\u001b[0;34m\u001b[0m\n",
       "\u001b[0;34m        INPUT:\u001b[0m\n",
       "\u001b[0;34m\u001b[0m\n",
       "\u001b[0;34m        - ``proof`` -- Boolean or ``None`` (default). If False, use a\u001b[0m\n",
       "\u001b[0;34m          strong pseudo-primality test (see :meth:`is_pseudoprime`).\u001b[0m\n",
       "\u001b[0;34m          If True, use a provable primality test.  If unset, use the\u001b[0m\n",
       "\u001b[0;34m          :mod:`default arithmetic proof flag <sage.structure.proof.proof>`.\u001b[0m\n",
       "\u001b[0;34m\u001b[0m\n",
       "\u001b[0;34m        .. NOTE::\u001b[0m\n",
       "\u001b[0;34m\u001b[0m\n",
       "\u001b[0;34m           Integer primes are by definition *positive*! This is\u001b[0m\n",
       "\u001b[0;34m           different than Magma, but the same as in PARI. See also the\u001b[0m\n",
       "\u001b[0;34m           :meth:`is_irreducible()` method.\u001b[0m\n",
       "\u001b[0;34m\u001b[0m\n",
       "\u001b[0;34m        EXAMPLES::\u001b[0m\n",
       "\u001b[0;34m\u001b[0m\n",
       "\u001b[0;34m            sage: z = 2^31 - 1\u001b[0m\n",
       "\u001b[0;34m            sage: z.is_prime()\u001b[0m\n",
       "\u001b[0;34m            True\u001b[0m\n",
       "\u001b[0;34m            sage: z = 2^31\u001b[0m\n",
       "\u001b[0;34m            sage: z.is_prime()\u001b[0m\n",
       "\u001b[0;34m            False\u001b[0m\n",
       "\u001b[0;34m            sage: z = 7\u001b[0m\n",
       "\u001b[0;34m            sage: z.is_prime()\u001b[0m\n",
       "\u001b[0;34m            True\u001b[0m\n",
       "\u001b[0;34m            sage: z = -7\u001b[0m\n",
       "\u001b[0;34m            sage: z.is_prime()\u001b[0m\n",
       "\u001b[0;34m            False\u001b[0m\n",
       "\u001b[0;34m            sage: z.is_irreducible()\u001b[0m\n",
       "\u001b[0;34m            True\u001b[0m\n",
       "\u001b[0;34m\u001b[0m\n",
       "\u001b[0;34m        ::\u001b[0m\n",
       "\u001b[0;34m\u001b[0m\n",
       "\u001b[0;34m            sage: z = 10^80 + 129\u001b[0m\n",
       "\u001b[0;34m            sage: z.is_prime(proof=False)\u001b[0m\n",
       "\u001b[0;34m            True\u001b[0m\n",
       "\u001b[0;34m            sage: z.is_prime(proof=True)\u001b[0m\n",
       "\u001b[0;34m            True\u001b[0m\n",
       "\u001b[0;34m\u001b[0m\n",
       "\u001b[0;34m        When starting Sage the arithmetic proof flag is True. We can change\u001b[0m\n",
       "\u001b[0;34m        it to False as follows::\u001b[0m\n",
       "\u001b[0;34m\u001b[0m\n",
       "\u001b[0;34m            sage: proof.arithmetic()\u001b[0m\n",
       "\u001b[0;34m            True\u001b[0m\n",
       "\u001b[0;34m            sage: n = 10^100 + 267\u001b[0m\n",
       "\u001b[0;34m            sage: timeit(\"n.is_prime()\")  # not tested\u001b[0m\n",
       "\u001b[0;34m            5 loops, best of 3: 163 ms per loop\u001b[0m\n",
       "\u001b[0;34m            sage: proof.arithmetic(False)\u001b[0m\n",
       "\u001b[0;34m            sage: proof.arithmetic()\u001b[0m\n",
       "\u001b[0;34m            False\u001b[0m\n",
       "\u001b[0;34m            sage: timeit(\"n.is_prime()\")  # not tested\u001b[0m\n",
       "\u001b[0;34m            1000 loops, best of 3: 573 us per loop\u001b[0m\n",
       "\u001b[0;34m\u001b[0m\n",
       "\u001b[0;34m        ALGORITHM:\u001b[0m\n",
       "\u001b[0;34m\u001b[0m\n",
       "\u001b[0;34m        Calls the PARI ``isprime`` function.\u001b[0m\n",
       "\u001b[0;34m\u001b[0m\n",
       "\u001b[0;34m        TESTS:\u001b[0m\n",
       "\u001b[0;34m\u001b[0m\n",
       "\u001b[0;34m        We compare the output of this method to a straightforward sieve::\u001b[0m\n",
       "\u001b[0;34m\u001b[0m\n",
       "\u001b[0;34m            sage: size = 10000\u001b[0m\n",
       "\u001b[0;34m            sage: tab = [0,0] + [1] * (size-2)\u001b[0m\n",
       "\u001b[0;34m            sage: for i in range(size):\u001b[0m\n",
       "\u001b[0;34m            ....:     if tab[i]:\u001b[0m\n",
       "\u001b[0;34m            ....:         for j in range(2*i, size, i):\u001b[0m\n",
       "\u001b[0;34m            ....:             tab[j] = 0\u001b[0m\n",
       "\u001b[0;34m            sage: all(ZZ(i).is_prime() == b for i,b in enumerate(tab))\u001b[0m\n",
       "\u001b[0;34m            True\u001b[0m\n",
       "\u001b[0;34m        \"\"\"\u001b[0m\u001b[0;34m\u001b[0m\n",
       "\u001b[0;34m\u001b[0m        \u001b[0;32mif\u001b[0m \u001b[0mmpz_sgn\u001b[0m\u001b[0;34m(\u001b[0m\u001b[0mself\u001b[0m\u001b[0;34m.\u001b[0m\u001b[0mvalue\u001b[0m\u001b[0;34m)\u001b[0m \u001b[0;34m<=\u001b[0m \u001b[0;36m0\u001b[0m\u001b[0;34m:\u001b[0m\u001b[0;34m\u001b[0m\n",
       "\u001b[0;34m\u001b[0m            \u001b[0;32mreturn\u001b[0m \u001b[0;32mFalse\u001b[0m\u001b[0;34m\u001b[0m\n",
       "\u001b[0;34m\u001b[0m\u001b[0;34m\u001b[0m\n",
       "\u001b[0;34m\u001b[0m        \u001b[0mcdef\u001b[0m \u001b[0munsigned\u001b[0m \u001b[0mlong\u001b[0m \u001b[0mu\u001b[0m\u001b[0;34m\u001b[0m\n",
       "\u001b[0;34m\u001b[0m        \u001b[0;32mif\u001b[0m \u001b[0mmpz_fits_ulong_p\u001b[0m\u001b[0;34m(\u001b[0m\u001b[0mself\u001b[0m\u001b[0;34m.\u001b[0m\u001b[0mvalue\u001b[0m\u001b[0;34m)\u001b[0m\u001b[0;34m:\u001b[0m\u001b[0;34m\u001b[0m\n",
       "\u001b[0;34m\u001b[0m            \u001b[0mu\u001b[0m \u001b[0;34m=\u001b[0m \u001b[0mmpz_get_ui\u001b[0m\u001b[0;34m(\u001b[0m\u001b[0mself\u001b[0m\u001b[0;34m.\u001b[0m\u001b[0mvalue\u001b[0m\u001b[0;34m)\u001b[0m\u001b[0;34m\u001b[0m\n",
       "\u001b[0;34m\u001b[0m            \u001b[0;32mif\u001b[0m \u001b[0;32mnot\u001b[0m \u001b[0;34m(\u001b[0m\u001b[0mu\u001b[0m \u001b[0;34m&\u001b[0m \u001b[0;36m1\u001b[0m\u001b[0;34m)\u001b[0m\u001b[0;34m:\u001b[0m\u001b[0;34m\u001b[0m\n",
       "\u001b[0;34m\u001b[0m                \u001b[0;32mreturn\u001b[0m \u001b[0mu\u001b[0m \u001b[0;34m==\u001b[0m \u001b[0;36m2\u001b[0m\u001b[0;34m\u001b[0m\n",
       "\u001b[0;34m\u001b[0m            \u001b[0;32mif\u001b[0m \u001b[0mu\u001b[0m \u001b[0;34m<\u001b[0m \u001b[0;36m1000\u001b[0m\u001b[0;34m:\u001b[0m\u001b[0;34m\u001b[0m\n",
       "\u001b[0;34m\u001b[0m                \u001b[0;32mreturn\u001b[0m \u001b[0m_small_primes_table\u001b[0m\u001b[0;34m[\u001b[0m\u001b[0mu\u001b[0m \u001b[0;34m>>\u001b[0m \u001b[0;36m1\u001b[0m\u001b[0;34m]\u001b[0m\u001b[0;34m\u001b[0m\n",
       "\u001b[0;34m\u001b[0m\u001b[0;34m\u001b[0m\n",
       "\u001b[0;34m\u001b[0m            \u001b[0;32mglobal\u001b[0m \u001b[0mpari_is_prime\u001b[0m\u001b[0;34m\u001b[0m\n",
       "\u001b[0;34m\u001b[0m            \u001b[0;32mif\u001b[0m \u001b[0mpari_is_prime\u001b[0m \u001b[0;32mis\u001b[0m \u001b[0;32mNone\u001b[0m\u001b[0;34m:\u001b[0m\u001b[0;34m\u001b[0m\n",
       "\u001b[0;34m\u001b[0m                \u001b[0;32mtry\u001b[0m\u001b[0;34m:\u001b[0m\u001b[0;34m\u001b[0m\n",
       "\u001b[0;34m\u001b[0m                    \u001b[0;32mfrom\u001b[0m \u001b[0msage\u001b[0m\u001b[0;34m.\u001b[0m\u001b[0mlibs\u001b[0m\u001b[0;34m.\u001b[0m\u001b[0mpari\u001b[0m\u001b[0;34m.\u001b[0m\u001b[0mconvert_sage\u001b[0m \u001b[0;32mimport\u001b[0m \u001b[0mpari_is_prime\u001b[0m\u001b[0;34m\u001b[0m\n",
       "\u001b[0;34m\u001b[0m                \u001b[0;32mexcept\u001b[0m \u001b[0mImportError\u001b[0m\u001b[0;34m:\u001b[0m\u001b[0;34m\u001b[0m\n",
       "\u001b[0;34m\u001b[0m                    \u001b[0;32mpass\u001b[0m\u001b[0;34m\u001b[0m\n",
       "\u001b[0;34m\u001b[0m            \u001b[0;32mif\u001b[0m \u001b[0mpari_is_prime\u001b[0m \u001b[0;32mis\u001b[0m \u001b[0;32mnot\u001b[0m \u001b[0;32mNone\u001b[0m\u001b[0;34m:\u001b[0m\u001b[0;34m\u001b[0m\n",
       "\u001b[0;34m\u001b[0m                \u001b[0;32mreturn\u001b[0m \u001b[0mpari_is_prime\u001b[0m\u001b[0;34m(\u001b[0m\u001b[0mself\u001b[0m\u001b[0;34m)\u001b[0m\u001b[0;34m\u001b[0m\n",
       "\u001b[0;34m\u001b[0m\u001b[0;34m\u001b[0m\n",
       "\u001b[0;34m\u001b[0m        \u001b[0;32mif\u001b[0m \u001b[0mproof\u001b[0m \u001b[0;32mis\u001b[0m \u001b[0;32mNone\u001b[0m\u001b[0;34m:\u001b[0m\u001b[0;34m\u001b[0m\n",
       "\u001b[0;34m\u001b[0m            \u001b[0;32mfrom\u001b[0m \u001b[0msage\u001b[0m\u001b[0;34m.\u001b[0m\u001b[0mstructure\u001b[0m\u001b[0;34m.\u001b[0m\u001b[0mproof\u001b[0m\u001b[0;34m.\u001b[0m\u001b[0mproof\u001b[0m \u001b[0;32mimport\u001b[0m \u001b[0mget_flag\u001b[0m\u001b[0;34m\u001b[0m\n",
       "\u001b[0;34m\u001b[0m            \u001b[0mproof\u001b[0m \u001b[0;34m=\u001b[0m \u001b[0mget_flag\u001b[0m\u001b[0;34m(\u001b[0m\u001b[0mproof\u001b[0m\u001b[0;34m,\u001b[0m \u001b[0;34m\"arithmetic\"\u001b[0m\u001b[0;34m)\u001b[0m\u001b[0;34m\u001b[0m\n",
       "\u001b[0;34m\u001b[0m        \u001b[0;32mif\u001b[0m \u001b[0mproof\u001b[0m\u001b[0;34m:\u001b[0m\u001b[0;34m\u001b[0m\n",
       "\u001b[0;34m\u001b[0m            \u001b[0;32mreturn\u001b[0m \u001b[0mself\u001b[0m\u001b[0;34m.\u001b[0m\u001b[0m__pari__\u001b[0m\u001b[0;34m(\u001b[0m\u001b[0;34m)\u001b[0m\u001b[0;34m.\u001b[0m\u001b[0misprime\u001b[0m\u001b[0;34m(\u001b[0m\u001b[0;34m)\u001b[0m\u001b[0;34m\u001b[0m\n",
       "\u001b[0;34m\u001b[0m        \u001b[0;32melse\u001b[0m\u001b[0;34m:\u001b[0m\u001b[0;34m\u001b[0m\n",
       "\u001b[0;34m\u001b[0m            \u001b[0;32mreturn\u001b[0m \u001b[0mself\u001b[0m\u001b[0;34m.\u001b[0m\u001b[0m__pari__\u001b[0m\u001b[0;34m(\u001b[0m\u001b[0;34m)\u001b[0m\u001b[0;34m.\u001b[0m\u001b[0mispseudoprime\u001b[0m\u001b[0;34m(\u001b[0m\u001b[0;34m)\u001b[0m\u001b[0;34m\u001b[0m\u001b[0;34m\u001b[0m\u001b[0m\n",
       "\u001b[0;31mFile:\u001b[0m      ~/src/sage/src/sage/rings/integer.pyx\n",
       "\u001b[0;31mType:\u001b[0m      builtin_function_or_method\n"
      ]
     },
     "metadata": {},
     "output_type": "display_data"
    }
   ],
   "source": [
    "a.is_prime??"
   ]
  },
  {
   "cell_type": "code",
   "execution_count": 18,
   "id": "8c8d43a9-ec13-43d4-9fa2-909f0fbc3665",
   "metadata": {},
   "outputs": [
    {
     "data": {
      "text/plain": [
       "\u001b[0;31mSignature:\u001b[0m \u001b[0mf\u001b[0m\u001b[0;34m(\u001b[0m\u001b[0mx\u001b[0m\u001b[0;34m)\u001b[0m\u001b[0;34m\u001b[0m\u001b[0;34m\u001b[0m\u001b[0m\n",
       "\u001b[0;31mDocstring:\u001b[0m    Báječná funkce umožňující vypočítat čtyřnásobek svého argumentu.\n",
       "\u001b[0;31mSource:\u001b[0m   \n",
       "\u001b[0;32mdef\u001b[0m \u001b[0mf\u001b[0m\u001b[0;34m(\u001b[0m\u001b[0mx\u001b[0m\u001b[0;34m)\u001b[0m\u001b[0;34m:\u001b[0m\u001b[0;34m\u001b[0m\n",
       "\u001b[0;34m\u001b[0m    \u001b[0;34m\"\"\"\u001b[0m\n",
       "\u001b[0;34m    Báječná funkce umožňující vypočítat čtyřnásobek svého argumentu.\u001b[0m\n",
       "\u001b[0;34m    \"\"\"\u001b[0m\u001b[0;34m\u001b[0m\n",
       "\u001b[0;34m\u001b[0m    \u001b[0my\u001b[0m \u001b[0;34m=\u001b[0m \u001b[0mInteger\u001b[0m\u001b[0;34m(\u001b[0m\u001b[0;36m4\u001b[0m\u001b[0;34m)\u001b[0m \u001b[0;34m*\u001b[0m \u001b[0mx\u001b[0m\u001b[0;34m\u001b[0m\n",
       "\u001b[0;34m\u001b[0m    \u001b[0;34m\u001b[0m\n",
       "\u001b[0;34m\u001b[0m    \u001b[0;32mreturn\u001b[0m \u001b[0my\u001b[0m\u001b[0;34m\u001b[0m\u001b[0;34m\u001b[0m\u001b[0m\n",
       "\u001b[0;31mFile:\u001b[0m      /tmp/ipykernel_394624/757238393.py\n",
       "\u001b[0;31mType:\u001b[0m      function\n"
      ]
     },
     "metadata": {},
     "output_type": "display_data"
    }
   ],
   "source": [
    "f??"
   ]
  },
  {
   "cell_type": "markdown",
   "id": "ac6118d2-14f3-4a69-bc2d-a17235def7be",
   "metadata": {},
   "source": [
    "---\n",
    "Informace uvedené zde nejsou v žádném případě vyčerpávající.\n",
    "Smyslem je zde ukázat základní vlastnosti a specifika jazyka, aby pak čtenářky a čtenáři neměli problém s pochopením dalších partií tohoto dílka.\n",
    "Zájemce odkazuji na výše zmíněné předměty [BI-PYT](https://courses.fit.cvut.cz/BI-PYT) a případně pak později [NI-PYT](https://courses.fit.cvut.cz/NI-PYT).\n",
    "Dobrým zdrojem informací je i [oficiální dokumentace SageMath](https://doc.sagemath.org/html/en/index.html)."
   ]
  }
 ],
 "metadata": {
  "kernelspec": {
   "display_name": "SageMath 9.8",
   "language": "sage",
   "name": "sagemath"
  },
  "language_info": {
   "codemirror_mode": {
    "name": "ipython",
    "version": 3
   },
   "file_extension": ".py",
   "mimetype": "text/x-python",
   "name": "python",
   "nbconvert_exporter": "python",
   "pygments_lexer": "ipython3",
   "version": "3.9.16"
  }
 },
 "nbformat": 4,
 "nbformat_minor": 5
}
